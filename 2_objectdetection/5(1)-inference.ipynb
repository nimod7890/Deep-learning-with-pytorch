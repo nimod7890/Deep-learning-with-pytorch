{
 "cells": [
  {
   "cell_type": "code",
   "execution_count": 4,
   "metadata": {},
   "outputs": [],
   "source": [
    "import cv2  \n",
    "import matplotlib.pyplot as plt \n",
    "import numpy as np\n",
    "import torch\n",
    "\n",
    "%matplotlib inline"
   ]
  },
  {
   "cell_type": "code",
   "execution_count": 5,
   "metadata": {},
   "outputs": [
    {
     "ename": "FileNotFoundError",
     "evalue": "[Errno 2] No such file or directory: './weights/sdd300_50.pth'",
     "output_type": "error",
     "traceback": [
      "\u001b[0;31m---------------------------------------------------------------------------\u001b[0m",
      "\u001b[0;31mFileNotFoundError\u001b[0m                         Traceback (most recent call last)",
      "\u001b[1;32m/home/kist/nimod/pytorch deep learning/2_objectdetection/5-inference.ipynb Cell 2'\u001b[0m in \u001b[0;36m<cell line: 18>\u001b[0;34m()\u001b[0m\n\u001b[1;32m      <a href='vscode-notebook-cell:/home/kist/nimod/pytorch%20deep%20learning/2_objectdetection/5-inference.ipynb#ch0000000?line=4'>5</a>\u001b[0m ssd_cfg\u001b[39m=\u001b[39m{\n\u001b[1;32m      <a href='vscode-notebook-cell:/home/kist/nimod/pytorch%20deep%20learning/2_objectdetection/5-inference.ipynb#ch0000000?line=5'>6</a>\u001b[0m     \u001b[39m'\u001b[39m\u001b[39mnum_classes\u001b[39m\u001b[39m'\u001b[39m:\u001b[39m21\u001b[39m,\n\u001b[1;32m      <a href='vscode-notebook-cell:/home/kist/nimod/pytorch%20deep%20learning/2_objectdetection/5-inference.ipynb#ch0000000?line=6'>7</a>\u001b[0m     \u001b[39m'\u001b[39m\u001b[39minput_size\u001b[39m\u001b[39m'\u001b[39m:\u001b[39m300\u001b[39m,\n\u001b[0;32m   (...)\u001b[0m\n\u001b[1;32m     <a href='vscode-notebook-cell:/home/kist/nimod/pytorch%20deep%20learning/2_objectdetection/5-inference.ipynb#ch0000000?line=12'>13</a>\u001b[0m     \u001b[39m'\u001b[39m\u001b[39maspect_ratios\u001b[39m\u001b[39m'\u001b[39m:[[\u001b[39m2\u001b[39m],[\u001b[39m2\u001b[39m,\u001b[39m3\u001b[39m],[\u001b[39m2\u001b[39m,\u001b[39m3\u001b[39m],[\u001b[39m2\u001b[39m,\u001b[39m3\u001b[39m],[\u001b[39m2\u001b[39m],[\u001b[39m2\u001b[39m]]\n\u001b[1;32m     <a href='vscode-notebook-cell:/home/kist/nimod/pytorch%20deep%20learning/2_objectdetection/5-inference.ipynb#ch0000000?line=13'>14</a>\u001b[0m }\n\u001b[1;32m     <a href='vscode-notebook-cell:/home/kist/nimod/pytorch%20deep%20learning/2_objectdetection/5-inference.ipynb#ch0000000?line=15'>16</a>\u001b[0m net\u001b[39m=\u001b[39mSSD(phase\u001b[39m=\u001b[39m\u001b[39m\"\u001b[39m\u001b[39minference\u001b[39m\u001b[39m\"\u001b[39m,cfg\u001b[39m=\u001b[39mssd_cfg)\n\u001b[0;32m---> <a href='vscode-notebook-cell:/home/kist/nimod/pytorch%20deep%20learning/2_objectdetection/5-inference.ipynb#ch0000000?line=17'>18</a>\u001b[0m net_weights\u001b[39m=\u001b[39mtorch\u001b[39m.\u001b[39;49mload(\u001b[39m'\u001b[39;49m\u001b[39m./weights/sdd300_50.pth\u001b[39;49m\u001b[39m'\u001b[39;49m,map_location\u001b[39m=\u001b[39;49m{\u001b[39m'\u001b[39;49m\u001b[39mcuda:0\u001b[39;49m\u001b[39m'\u001b[39;49m:\u001b[39m'\u001b[39;49m\u001b[39mcpu\u001b[39;49m\u001b[39m'\u001b[39;49m})\n\u001b[1;32m     <a href='vscode-notebook-cell:/home/kist/nimod/pytorch%20deep%20learning/2_objectdetection/5-inference.ipynb#ch0000000?line=19'>20</a>\u001b[0m net\u001b[39m.\u001b[39mload_state_dict(net_weights)\n",
      "File \u001b[0;32m~/anaconda3/envs/pytorchDeepLearning/lib/python3.9/site-packages/torch/serialization.py:699\u001b[0m, in \u001b[0;36mload\u001b[0;34m(f, map_location, pickle_module, **pickle_load_args)\u001b[0m\n\u001b[1;32m    <a href='file:///home/kist/anaconda3/envs/pytorchDeepLearning/lib/python3.9/site-packages/torch/serialization.py?line=695'>696</a>\u001b[0m \u001b[39mif\u001b[39;00m \u001b[39m'\u001b[39m\u001b[39mencoding\u001b[39m\u001b[39m'\u001b[39m \u001b[39mnot\u001b[39;00m \u001b[39min\u001b[39;00m pickle_load_args\u001b[39m.\u001b[39mkeys():\n\u001b[1;32m    <a href='file:///home/kist/anaconda3/envs/pytorchDeepLearning/lib/python3.9/site-packages/torch/serialization.py?line=696'>697</a>\u001b[0m     pickle_load_args[\u001b[39m'\u001b[39m\u001b[39mencoding\u001b[39m\u001b[39m'\u001b[39m] \u001b[39m=\u001b[39m \u001b[39m'\u001b[39m\u001b[39mutf-8\u001b[39m\u001b[39m'\u001b[39m\n\u001b[0;32m--> <a href='file:///home/kist/anaconda3/envs/pytorchDeepLearning/lib/python3.9/site-packages/torch/serialization.py?line=698'>699</a>\u001b[0m \u001b[39mwith\u001b[39;00m _open_file_like(f, \u001b[39m'\u001b[39;49m\u001b[39mrb\u001b[39;49m\u001b[39m'\u001b[39;49m) \u001b[39mas\u001b[39;00m opened_file:\n\u001b[1;32m    <a href='file:///home/kist/anaconda3/envs/pytorchDeepLearning/lib/python3.9/site-packages/torch/serialization.py?line=699'>700</a>\u001b[0m     \u001b[39mif\u001b[39;00m _is_zipfile(opened_file):\n\u001b[1;32m    <a href='file:///home/kist/anaconda3/envs/pytorchDeepLearning/lib/python3.9/site-packages/torch/serialization.py?line=700'>701</a>\u001b[0m         \u001b[39m# The zipfile reader is going to advance the current file position.\u001b[39;00m\n\u001b[1;32m    <a href='file:///home/kist/anaconda3/envs/pytorchDeepLearning/lib/python3.9/site-packages/torch/serialization.py?line=701'>702</a>\u001b[0m         \u001b[39m# If we want to actually tail call to torch.jit.load, we need to\u001b[39;00m\n\u001b[1;32m    <a href='file:///home/kist/anaconda3/envs/pytorchDeepLearning/lib/python3.9/site-packages/torch/serialization.py?line=702'>703</a>\u001b[0m         \u001b[39m# reset back to the original position.\u001b[39;00m\n\u001b[1;32m    <a href='file:///home/kist/anaconda3/envs/pytorchDeepLearning/lib/python3.9/site-packages/torch/serialization.py?line=703'>704</a>\u001b[0m         orig_position \u001b[39m=\u001b[39m opened_file\u001b[39m.\u001b[39mtell()\n",
      "File \u001b[0;32m~/anaconda3/envs/pytorchDeepLearning/lib/python3.9/site-packages/torch/serialization.py:231\u001b[0m, in \u001b[0;36m_open_file_like\u001b[0;34m(name_or_buffer, mode)\u001b[0m\n\u001b[1;32m    <a href='file:///home/kist/anaconda3/envs/pytorchDeepLearning/lib/python3.9/site-packages/torch/serialization.py?line=228'>229</a>\u001b[0m \u001b[39mdef\u001b[39;00m \u001b[39m_open_file_like\u001b[39m(name_or_buffer, mode):\n\u001b[1;32m    <a href='file:///home/kist/anaconda3/envs/pytorchDeepLearning/lib/python3.9/site-packages/torch/serialization.py?line=229'>230</a>\u001b[0m     \u001b[39mif\u001b[39;00m _is_path(name_or_buffer):\n\u001b[0;32m--> <a href='file:///home/kist/anaconda3/envs/pytorchDeepLearning/lib/python3.9/site-packages/torch/serialization.py?line=230'>231</a>\u001b[0m         \u001b[39mreturn\u001b[39;00m _open_file(name_or_buffer, mode)\n\u001b[1;32m    <a href='file:///home/kist/anaconda3/envs/pytorchDeepLearning/lib/python3.9/site-packages/torch/serialization.py?line=231'>232</a>\u001b[0m     \u001b[39melse\u001b[39;00m:\n\u001b[1;32m    <a href='file:///home/kist/anaconda3/envs/pytorchDeepLearning/lib/python3.9/site-packages/torch/serialization.py?line=232'>233</a>\u001b[0m         \u001b[39mif\u001b[39;00m \u001b[39m'\u001b[39m\u001b[39mw\u001b[39m\u001b[39m'\u001b[39m \u001b[39min\u001b[39;00m mode:\n",
      "File \u001b[0;32m~/anaconda3/envs/pytorchDeepLearning/lib/python3.9/site-packages/torch/serialization.py:212\u001b[0m, in \u001b[0;36m_open_file.__init__\u001b[0;34m(self, name, mode)\u001b[0m\n\u001b[1;32m    <a href='file:///home/kist/anaconda3/envs/pytorchDeepLearning/lib/python3.9/site-packages/torch/serialization.py?line=210'>211</a>\u001b[0m \u001b[39mdef\u001b[39;00m \u001b[39m__init__\u001b[39m(\u001b[39mself\u001b[39m, name, mode):\n\u001b[0;32m--> <a href='file:///home/kist/anaconda3/envs/pytorchDeepLearning/lib/python3.9/site-packages/torch/serialization.py?line=211'>212</a>\u001b[0m     \u001b[39msuper\u001b[39m(_open_file, \u001b[39mself\u001b[39m)\u001b[39m.\u001b[39m\u001b[39m__init__\u001b[39m(\u001b[39mopen\u001b[39;49m(name, mode))\n",
      "\u001b[0;31mFileNotFoundError\u001b[0m: [Errno 2] No such file or directory: './weights/sdd300_50.pth'"
     ]
    }
   ],
   "source": [
    "from utils.ssd_model import SSD\n",
    "\n",
    "voc_classes=['aeroplane','bicycle','bird','boat','bottle','bus','car','cat','chair','cow','diningtable','dog','horse','motorbike','person','pottedplant','sheep','sofa','train','tvmonitor']\n",
    "\n",
    "ssd_cfg={\n",
    "    'num_classes':21,\n",
    "    'input_size':300,\n",
    "    'bbox_aspect_num':[4,6,6,6,4,4],\n",
    "    'feature_maps':[38,19,10,5,3,1],\n",
    "    'steps':[8,16,32,64,100,300],\n",
    "    'min_sizes':[30,60,111,162,213,264],\n",
    "    'max_sizes':[60,111,162,213,264,315],\n",
    "    'aspect_ratios':[[2],[2,3],[2,3],[2,3],[2],[2]]\n",
    "}\n",
    "\n",
    "net=SSD(phase=\"inference\",cfg=ssd_cfg)\n",
    "\n",
    "net_weights=torch.load('./weights/sdd300_50.pth',map_location={'cuda:0':'cpu'})\n",
    "\n",
    "net.load_state_dict(net_weights)"
   ]
  },
  {
   "cell_type": "code",
   "execution_count": null,
   "metadata": {},
   "outputs": [],
   "source": [
    "from utils.ssd_model import DataTransform\n",
    "\n",
    "image_file_path='./data/cowboy-757575_640.jpg'\n",
    "img=cv2.imread(image_file_path)\n",
    "height,width,channels=img.shape\n",
    "\n",
    "plt.imshow(cv2.cvtColor(img,cv2.COLOR_BGR2RGB))\n",
    "plt.show()\n",
    "\n",
    "color_mean=(104,117,123)\n",
    "input_size=300\n",
    "transform=DataTransform(input_size,color_mean)\n",
    "\n",
    "img_transformed,boxes,labels=transform(img,'val',\"\",\"\")\n",
    "img=torch.from_numpy(img_transformed[:,:,(2,1,0)]).permute(2,0,1)\n",
    "\n",
    "net.eval()\n",
    "\n",
    "x=img.unsqueeze(0)\n",
    "detections=net(x)\n",
    "print(detections.shape)\n",
    "print(detections)\n"
   ]
  },
  {
   "cell_type": "code",
   "execution_count": null,
   "metadata": {},
   "outputs": [],
   "source": [
    "from utils.ssd_predict_show import SSDPredictShow\n",
    "\n",
    "img_file_path='./data/cowboy-757575_640.jpg'\n",
    "\n",
    "ssd=SSDPredictShow(eval_categories=voc_classes,net=net)\n",
    "ssd.show(img_file_path,data_confidence_level=0.6)"
   ]
  }
 ],
 "metadata": {
  "interpreter": {
   "hash": "415c659548b03e5a7ab126dcfbb4fc7162127f64c5d6abf067896d088a8939b1"
  },
  "kernelspec": {
   "display_name": "Python 3.9.12 ('pytorchDeepLearning')",
   "language": "python",
   "name": "python3"
  },
  "language_info": {
   "codemirror_mode": {
    "name": "ipython",
    "version": 3
   },
   "file_extension": ".py",
   "mimetype": "text/x-python",
   "name": "python",
   "nbconvert_exporter": "python",
   "pygments_lexer": "ipython3",
   "version": "3.9.12"
  },
  "orig_nbformat": 4
 },
 "nbformat": 4,
 "nbformat_minor": 2
}
