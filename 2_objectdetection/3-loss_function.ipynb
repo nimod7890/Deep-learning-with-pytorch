{
 "cells": [
  {
   "cell_type": "markdown",
   "metadata": {},
   "source": [
    "# match function\n",
    "- [직접 구현하지 않음](/2_objectdetection/utils/match.py) \n",
    "- 정답(BBox)과 가까운 DBox 추출: Jaccard(IOU) 사용해 BBox, DBox 간 유사도 측정\n",
    "- Negative DBox(정답 데이터가 없는 DBox)\n",
    "    > $IOU< 0.5$ \n",
    "    >\n",
    "    > background class도 index 0으로 취급하여 학습에 사용\n",
    "- Positive DBox: 해당하는 정답 BBox의 object class를 해당 DBox 예측 결과의 정답 class로 둠(지도 데이터)\n",
    "    > $IOU\\geq 0.5$ \n",
    "- DBox의 좌표 정보(loc), DBox가 감지되는 클래스를 따로 고려함\n",
    "    > jaccard 계수는 loc만 고려\n",
    "    > - 신뢰도(conf)가 높은 class 등은 고려하지 않음\n",
    "    > \n",
    "    > 미리 준비한 DBox와 정답 BBox에 대해서만 jaccard 계산\n",
    "    > - 추정 BBox와 정답 BBox의 jaccard 계수 처리하지 않음\n"
   ]
  },
  {
   "cell_type": "markdown",
   "metadata": {},
   "source": [
    "# hard negative mining\n",
    "- Negative DBox 중 학습에 사용될 DBox 추출\n",
    "    > Negative DBox를 전부 학습에 사용하면 background class 학습 횟수가 실제 object class 비해 매우 커지기 때문에 균형을 위한 조치\n",
    "    > \n",
    "    > loss가 높은(label 예측이 잘 되지 않은) 것을 우선적으로 선택\n",
    "    > - background class를 background class라고 예측하지 못한 DBox를 Negative DBox라 하고 이를 우선적으로 학습\n",
    "- Negative DBox:Positive DBox=n:1 로 조정\n",
    "    > n(hyperparameter): neg_pos\n"
   ]
  },
  {
   "cell_type": "markdown",
   "metadata": {},
   "source": [
    "# loss function "
   ]
  },
  {
   "cell_type": "markdown",
   "metadata": {},
   "source": [
    "### Smooth L1 Loss \n",
    "- Positive DBox offset 예측 loc: DBox, 정답 BBox가 되기 위한 보정 값을 예측하는 regression\n",
    "- 물체를 발견한 DBox(Positive DBox)의 offset만 계산하도록 함 \n",
    "    > Negative DBox label이 0(background)로 되어있어 BBox가 존재하지 않아 offset 또한 없음\n",
    "\n",
    "### cross entropy\n",
    "- object class label 예측"
   ]
  },
  {
   "cell_type": "markdown",
   "metadata": {},
   "source": [
    "### MultiBoxLoss class"
   ]
  },
  {
   "cell_type": "code",
   "execution_count": 1,
   "metadata": {},
   "outputs": [],
   "source": [
    "import torch\n",
    "import torch.nn as nn\n",
    "import torch.nn.functional as F\n",
    "\n",
    "from utils.match import match"
   ]
  },
  {
   "cell_type": "code",
   "execution_count": 3,
   "metadata": {},
   "outputs": [],
   "source": [
    "\n",
    "\n",
    "class MultiBoxLoss(nn.Module):\n",
    "    def __init__(self,jaccard_thresh=0.5, neg_pos=3,device='cpu'):\n",
    "        super(MultiBoxLoss,self).__init__()\n",
    "        self.jaccard_thresh=jaccard_thresh #for match function\n",
    "        self.negpos_ratio=neg_pos #negative dbox:positive dbox\n",
    "        self.device=device\n",
    "\n",
    "    def forward(self,predictions,targets):\n",
    "        loc_data,conf_data,dbox_list=predictions\n",
    "        num_batch=loc_data.size(0)\n",
    "        num_dbox=loc_data.size(1)\n",
    "        num_classes=conf_data.size(2)\n",
    "\n",
    "        '''dbox에 가장 가까운 정답 bbox의 정보 저장''' \n",
    "\n",
    "        #init\n",
    "        conf_t_label=torch.LongTensor(num_batch,num_dbox).to(self.device) #label\n",
    "        loc_t=torch.Tensor(num_batch,num_dbox,4).to(self.device) #location \n",
    "\n",
    "        for idx in range(num_batch):\n",
    "            # 현재 minibatch의 정답 annotation \n",
    "            bbox=targets[idx][:,:-1].to(self.device) #bbox \n",
    "            bbox_labels=targets[idx][:,-1].to(self.device) #label: [object_1, label_1, o_2,l_2,...]\n",
    "\n",
    "            # init\n",
    "            dbox=dbox_list.to(self.device)\n",
    "\n",
    "            # get label, location info using match function\n",
    "            # if jaccard overlap< 0.5, set label index 0(background class)\n",
    "            \n",
    "            variance=[0.1,0.2] #DBox에서 BBox로의 보정 과정에서 필요한 계수\n",
    "            match(self.jaccard_thresh,bbox,dbox,variance,bbox_labels,loc_t,conf_t_label,idx)\n",
    "        \n",
    "        pos_mask=conf_t_label>0 #object 감지된 bbox 추출 (positive dbox가 계산된 bbox)\n",
    "\n",
    "        '''location loss: Smooth L1 Loss'''\n",
    "        pos_idx=pos_mask.unsqueeze(pos_mask.dim()).expand_as(loc_data) #pos_mask를 loc_data 크기로 변형\n",
    "        loc_p=loc_data[pos_idx].view(-1,4) #dbox location info \n",
    "        loc_t=loc_t[pos_idx].view(-1,4) #bbox location info\n",
    "        \n",
    "        loss_l=F.smooth_l1_loss(loc_p,loc_t,reduction='sum')\n",
    "\n",
    "        '''class loss: cross entropy'''\n",
    "        # 1. CLASS PREDICTION LOSS\n",
    "        batch_conf=conf_data.view(-1,num_classes)\n",
    "        loss_c=F.cross_entropy(batch_conf,conf_t_label.view(-1),reduction='none') # 차원 보존을 위해 더하지 않고 reduction='none'\n",
    "\n",
    "\n",
    "        # 2. HARD NEGATIVE MINING\n",
    "\n",
    "        # (1) if object detect(label > 1), loss will be 0\n",
    "        num_pos=pos_mask.long().sum(1,keepdim=True) #object class의 예측 수 for each minibatch\n",
    "        loss_c=loss_c.view(num_batch,-1)\n",
    "        loss_c[pos_mask]=0 \n",
    "\n",
    "\n",
    "        # (2) background dbox 개수 조정\n",
    "        num_neg=torch.clamp(num_pos*self.negpos_ratio,max=num_dbox) # object class(num_pos): background class = self.negpos_ratio:1\n",
    "\n",
    "\n",
    "        # (3) loss 낮은 dbox 제외\n",
    "\n",
    "        # loss 크기 큰 순서대로 정렬한 idx 기억\n",
    "            # loss_idx[idx_rank[0]]=원래 loss_c의 0번째 요소 \n",
    "        _,loss_idx=loss_c.sort(1,descending=True) #loss 큰 순으로 정렬\n",
    "            # loss_idx: 내림차순으로 정렬된 loss의 원래 idx 값\n",
    "        _,idx_rank=loss_idx.sort(1) #rank 지정\n",
    "            # idx_rank: 다시 원 상태로 되돌린 후, loss_idx의 순서 기억 -> 내림차순 시 새로운 idx\n",
    "        \n",
    "        #num_neg보다 loss 큰(idx_rank 값 낮은) dbox 추출\n",
    "        neg_mask=idx_rank<(num_neg).expand_as(idx_rank) \n",
    "\n",
    "\n",
    "        # (4) hard negative mining\n",
    "        \n",
    "        pos_idx_mask=pos_mask.unsqueeze(2).expand_as(conf_data) #positive dbox conf\n",
    "        neg_idx_mask=neg_mask.unsqueeze(2).expand_as(conf_data) #negative dbox conf\n",
    "\n",
    "        # pos나 neg 중 mask 가 1인 index를 추출 \n",
    "        conf_hnm=conf_data[(pos_idx_mask+neg_idx_mask).gt(0)].view(-1,num_classes) \n",
    "        conf_t_label_hnm=conf_t_label[(pos_mask+neg_mask).gt(0)] \n",
    "        \n",
    "        \n",
    "        # (5) loss \n",
    "        loss_c=F.cross_entropy(conf_hnm,conf_t_label_hnm,reduction='sum')\n",
    "\n",
    "        N=num_pos.sum() #object detect된 bbox 개수\n",
    "\n",
    "        loss_l/=N\n",
    "        loss_c/=N\n",
    "\n",
    "        return loss_l,loss_c"
   ]
  }
 ],
 "metadata": {
  "interpreter": {
   "hash": "415c659548b03e5a7ab126dcfbb4fc7162127f64c5d6abf067896d088a8939b1"
  },
  "kernelspec": {
   "display_name": "Python 3.9.12 ('pytorchDeepLearning')",
   "language": "python",
   "name": "python3"
  },
  "language_info": {
   "codemirror_mode": {
    "name": "ipython",
    "version": 3
   },
   "file_extension": ".py",
   "mimetype": "text/x-python",
   "name": "python",
   "nbconvert_exporter": "python",
   "pygments_lexer": "ipython3",
   "version": "3.9.12"
  },
  "orig_nbformat": 4
 },
 "nbformat": 4,
 "nbformat_minor": 2
}
