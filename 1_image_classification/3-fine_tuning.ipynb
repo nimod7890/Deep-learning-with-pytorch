{
 "cells": [
  {
   "cell_type": "code",
   "execution_count": 2,
   "metadata": {},
   "outputs": [],
   "source": [
    "import os.path as osp\n",
    "\n",
    "from PIL import Image\n",
    "from tqdm import tqdm\n",
    "\n",
    "import torch\n",
    "import torch.nn as nn\n",
    "import torch.optim as optim\n",
    "import torch.utils.data as data\n",
    "from torchvision import models\n"
   ]
  },
  {
   "cell_type": "markdown",
   "metadata": {},
   "source": [
    "https://choice37.tistory.com/27"
   ]
  },
  {
   "cell_type": "code",
   "execution_count": 6,
   "metadata": {},
   "outputs": [
    {
     "name": "stdout",
     "output_type": "stream",
     "text": [
      "0\n"
     ]
    },
    {
     "ename": "AssertionError",
     "evalue": "Torch not compiled with CUDA enabled",
     "output_type": "error",
     "traceback": [
      "\u001b[0;31m---------------------------------------------------------------------------\u001b[0m",
      "\u001b[0;31mAssertionError\u001b[0m                            Traceback (most recent call last)",
      "\u001b[1;32m/home/kist/nimod/pytorch deep learning/1_image_classification/fine_tuning.ipynb Cell 2'\u001b[0m in \u001b[0;36m<cell line: 2>\u001b[0;34m()\u001b[0m\n\u001b[1;32m      <a href='vscode-notebook-cell:/home/kist/nimod/pytorch%20deep%20learning/1_image_classification/fine_tuning.ipynb#ch0000015?line=0'>1</a>\u001b[0m \u001b[39mprint\u001b[39m(torch\u001b[39m.\u001b[39mcuda\u001b[39m.\u001b[39mdevice_count())\n\u001b[0;32m----> <a href='vscode-notebook-cell:/home/kist/nimod/pytorch%20deep%20learning/1_image_classification/fine_tuning.ipynb#ch0000015?line=1'>2</a>\u001b[0m torch\u001b[39m.\u001b[39;49mcuda\u001b[39m.\u001b[39;49mget_device_name(\u001b[39m0\u001b[39;49m)\n\u001b[1;32m      <a href='vscode-notebook-cell:/home/kist/nimod/pytorch%20deep%20learning/1_image_classification/fine_tuning.ipynb#ch0000015?line=2'>3</a>\u001b[0m torch\u001b[39m.\u001b[39mcuda\u001b[39m.\u001b[39mis_available()\n",
      "File \u001b[0;32m~/anaconda3/envs/pytorchDeepLearning/lib/python3.9/site-packages/torch/cuda/__init__.py:275\u001b[0m, in \u001b[0;36mget_device_name\u001b[0;34m(device)\u001b[0m\n\u001b[1;32m    <a href='file:///home/kist/anaconda3/envs/pytorchDeepLearning/lib/python3.9/site-packages/torch/cuda/__init__.py?line=265'>266</a>\u001b[0m \u001b[39mdef\u001b[39;00m \u001b[39mget_device_name\u001b[39m(device: Optional[_device_t] \u001b[39m=\u001b[39m \u001b[39mNone\u001b[39;00m) \u001b[39m-\u001b[39m\u001b[39m>\u001b[39m \u001b[39mstr\u001b[39m:\n\u001b[1;32m    <a href='file:///home/kist/anaconda3/envs/pytorchDeepLearning/lib/python3.9/site-packages/torch/cuda/__init__.py?line=266'>267</a>\u001b[0m     \u001b[39mr\u001b[39m\u001b[39m\"\"\"Gets the name of a device.\u001b[39;00m\n\u001b[1;32m    <a href='file:///home/kist/anaconda3/envs/pytorchDeepLearning/lib/python3.9/site-packages/torch/cuda/__init__.py?line=267'>268</a>\u001b[0m \n\u001b[1;32m    <a href='file:///home/kist/anaconda3/envs/pytorchDeepLearning/lib/python3.9/site-packages/torch/cuda/__init__.py?line=268'>269</a>\u001b[0m \u001b[39m    Arguments:\u001b[39;00m\n\u001b[0;32m   (...)\u001b[0m\n\u001b[1;32m    <a href='file:///home/kist/anaconda3/envs/pytorchDeepLearning/lib/python3.9/site-packages/torch/cuda/__init__.py?line=272'>273</a>\u001b[0m \u001b[39m            if :attr:`device` is ``None`` (default).\u001b[39;00m\n\u001b[1;32m    <a href='file:///home/kist/anaconda3/envs/pytorchDeepLearning/lib/python3.9/site-packages/torch/cuda/__init__.py?line=273'>274</a>\u001b[0m \u001b[39m    \"\"\"\u001b[39;00m\n\u001b[0;32m--> <a href='file:///home/kist/anaconda3/envs/pytorchDeepLearning/lib/python3.9/site-packages/torch/cuda/__init__.py?line=274'>275</a>\u001b[0m     \u001b[39mreturn\u001b[39;00m get_device_properties(device)\u001b[39m.\u001b[39mname\n",
      "File \u001b[0;32m~/anaconda3/envs/pytorchDeepLearning/lib/python3.9/site-packages/torch/cuda/__init__.py:296\u001b[0m, in \u001b[0;36mget_device_properties\u001b[0;34m(device)\u001b[0m\n\u001b[1;32m    <a href='file:///home/kist/anaconda3/envs/pytorchDeepLearning/lib/python3.9/site-packages/torch/cuda/__init__.py?line=294'>295</a>\u001b[0m \u001b[39mdef\u001b[39;00m \u001b[39mget_device_properties\u001b[39m(device: _device_t) \u001b[39m-\u001b[39m\u001b[39m>\u001b[39m _CudaDeviceProperties:\n\u001b[0;32m--> <a href='file:///home/kist/anaconda3/envs/pytorchDeepLearning/lib/python3.9/site-packages/torch/cuda/__init__.py?line=295'>296</a>\u001b[0m     _lazy_init()  \u001b[39m# will define _get_device_properties\u001b[39;00m\n\u001b[1;32m    <a href='file:///home/kist/anaconda3/envs/pytorchDeepLearning/lib/python3.9/site-packages/torch/cuda/__init__.py?line=296'>297</a>\u001b[0m     device \u001b[39m=\u001b[39m _get_device_index(device, optional\u001b[39m=\u001b[39m\u001b[39mTrue\u001b[39;00m)\n\u001b[1;32m    <a href='file:///home/kist/anaconda3/envs/pytorchDeepLearning/lib/python3.9/site-packages/torch/cuda/__init__.py?line=297'>298</a>\u001b[0m     \u001b[39mif\u001b[39;00m device \u001b[39m<\u001b[39m \u001b[39m0\u001b[39m \u001b[39mor\u001b[39;00m device \u001b[39m>\u001b[39m\u001b[39m=\u001b[39m device_count():\n",
      "File \u001b[0;32m~/anaconda3/envs/pytorchDeepLearning/lib/python3.9/site-packages/torch/cuda/__init__.py:166\u001b[0m, in \u001b[0;36m_lazy_init\u001b[0;34m()\u001b[0m\n\u001b[1;32m    <a href='file:///home/kist/anaconda3/envs/pytorchDeepLearning/lib/python3.9/site-packages/torch/cuda/__init__.py?line=162'>163</a>\u001b[0m     \u001b[39mraise\u001b[39;00m \u001b[39mRuntimeError\u001b[39;00m(\n\u001b[1;32m    <a href='file:///home/kist/anaconda3/envs/pytorchDeepLearning/lib/python3.9/site-packages/torch/cuda/__init__.py?line=163'>164</a>\u001b[0m         \u001b[39m\"\u001b[39m\u001b[39mCannot re-initialize CUDA in forked subprocess. \u001b[39m\u001b[39m\"\u001b[39m \u001b[39m+\u001b[39m msg)\n\u001b[1;32m    <a href='file:///home/kist/anaconda3/envs/pytorchDeepLearning/lib/python3.9/site-packages/torch/cuda/__init__.py?line=164'>165</a>\u001b[0m \u001b[39mif\u001b[39;00m \u001b[39mnot\u001b[39;00m \u001b[39mhasattr\u001b[39m(torch\u001b[39m.\u001b[39m_C, \u001b[39m'\u001b[39m\u001b[39m_cuda_getDeviceCount\u001b[39m\u001b[39m'\u001b[39m):\n\u001b[0;32m--> <a href='file:///home/kist/anaconda3/envs/pytorchDeepLearning/lib/python3.9/site-packages/torch/cuda/__init__.py?line=165'>166</a>\u001b[0m     \u001b[39mraise\u001b[39;00m \u001b[39mAssertionError\u001b[39;00m(\u001b[39m\"\u001b[39m\u001b[39mTorch not compiled with CUDA enabled\u001b[39m\u001b[39m\"\u001b[39m)\n\u001b[1;32m    <a href='file:///home/kist/anaconda3/envs/pytorchDeepLearning/lib/python3.9/site-packages/torch/cuda/__init__.py?line=166'>167</a>\u001b[0m \u001b[39mif\u001b[39;00m _cudart \u001b[39mis\u001b[39;00m \u001b[39mNone\u001b[39;00m:\n\u001b[1;32m    <a href='file:///home/kist/anaconda3/envs/pytorchDeepLearning/lib/python3.9/site-packages/torch/cuda/__init__.py?line=167'>168</a>\u001b[0m     \u001b[39mraise\u001b[39;00m \u001b[39mAssertionError\u001b[39;00m(\n\u001b[1;32m    <a href='file:///home/kist/anaconda3/envs/pytorchDeepLearning/lib/python3.9/site-packages/torch/cuda/__init__.py?line=168'>169</a>\u001b[0m         \u001b[39m\"\u001b[39m\u001b[39mlibcudart functions unavailable. It looks like you have a broken build?\u001b[39m\u001b[39m\"\u001b[39m)\n",
      "\u001b[0;31mAssertionError\u001b[0m: Torch not compiled with CUDA enabled"
     ]
    }
   ],
   "source": [
    "print(torch.cuda.device_count())\n",
    "torch.cuda.get_device_name(0)\n",
    "torch.cuda.is_available()"
   ]
  },
  {
   "cell_type": "markdown",
   "metadata": {},
   "source": [
    "### Dataset, DataLoader"
   ]
  },
  {
   "cell_type": "code",
   "execution_count": 2,
   "metadata": {},
   "outputs": [
    {
     "name": "stdout",
     "output_type": "stream",
     "text": [
      "./data/hymenoptera_data/train/**/*.jpg\n",
      "./data/hymenoptera_data/val/**/*.jpg\n"
     ]
    }
   ],
   "source": [
    "from utils.dataloader_image_classification import ImageTransform,make_datapath_list,HymenopteraDataset\n",
    "\n",
    "train_list=make_datapath_list()\n",
    "val_list=make_datapath_list(phase=\"val\")\n",
    "\n",
    "size,mean,std=2242,(0.485,0.456,0.406),(0.229,0.224,0.225)\n",
    "train_dataset=HymenopteraDataset(file_list=train_list,transform=ImageTransform(size,mean,std))\n",
    "val_dataset=HymenopteraDataset(file_list=val_list,transform=ImageTransform(size,mean,std),phase=\"val\")\n",
    "\n",
    "batch_size=32\n",
    "train_dataloader=data.DataLoader(train_dataset,batch_size=batch_size,shuffle=True)\n",
    "val_dataloader=data.DataLoader(val_dataset,batch_size=batch_size)\n",
    "\n",
    "dataloaders_dict={\"train\": train_dataloader,\"val\":val_dataloader}"
   ]
  },
  {
   "cell_type": "markdown",
   "metadata": {},
   "source": [
    "### Model Structure"
   ]
  },
  {
   "cell_type": "code",
   "execution_count": 3,
   "metadata": {},
   "outputs": [
    {
     "data": {
      "text/plain": [
       "VGG(\n",
       "  (features): Sequential(\n",
       "    (0): Conv2d(3, 64, kernel_size=(3, 3), stride=(1, 1), padding=(1, 1))\n",
       "    (1): ReLU(inplace=True)\n",
       "    (2): Conv2d(64, 64, kernel_size=(3, 3), stride=(1, 1), padding=(1, 1))\n",
       "    (3): ReLU(inplace=True)\n",
       "    (4): MaxPool2d(kernel_size=2, stride=2, padding=0, dilation=1, ceil_mode=False)\n",
       "    (5): Conv2d(64, 128, kernel_size=(3, 3), stride=(1, 1), padding=(1, 1))\n",
       "    (6): ReLU(inplace=True)\n",
       "    (7): Conv2d(128, 128, kernel_size=(3, 3), stride=(1, 1), padding=(1, 1))\n",
       "    (8): ReLU(inplace=True)\n",
       "    (9): MaxPool2d(kernel_size=2, stride=2, padding=0, dilation=1, ceil_mode=False)\n",
       "    (10): Conv2d(128, 256, kernel_size=(3, 3), stride=(1, 1), padding=(1, 1))\n",
       "    (11): ReLU(inplace=True)\n",
       "    (12): Conv2d(256, 256, kernel_size=(3, 3), stride=(1, 1), padding=(1, 1))\n",
       "    (13): ReLU(inplace=True)\n",
       "    (14): Conv2d(256, 256, kernel_size=(3, 3), stride=(1, 1), padding=(1, 1))\n",
       "    (15): ReLU(inplace=True)\n",
       "    (16): MaxPool2d(kernel_size=2, stride=2, padding=0, dilation=1, ceil_mode=False)\n",
       "    (17): Conv2d(256, 512, kernel_size=(3, 3), stride=(1, 1), padding=(1, 1))\n",
       "    (18): ReLU(inplace=True)\n",
       "    (19): Conv2d(512, 512, kernel_size=(3, 3), stride=(1, 1), padding=(1, 1))\n",
       "    (20): ReLU(inplace=True)\n",
       "    (21): Conv2d(512, 512, kernel_size=(3, 3), stride=(1, 1), padding=(1, 1))\n",
       "    (22): ReLU(inplace=True)\n",
       "    (23): MaxPool2d(kernel_size=2, stride=2, padding=0, dilation=1, ceil_mode=False)\n",
       "    (24): Conv2d(512, 512, kernel_size=(3, 3), stride=(1, 1), padding=(1, 1))\n",
       "    (25): ReLU(inplace=True)\n",
       "    (26): Conv2d(512, 512, kernel_size=(3, 3), stride=(1, 1), padding=(1, 1))\n",
       "    (27): ReLU(inplace=True)\n",
       "    (28): Conv2d(512, 512, kernel_size=(3, 3), stride=(1, 1), padding=(1, 1))\n",
       "    (29): ReLU(inplace=True)\n",
       "    (30): MaxPool2d(kernel_size=2, stride=2, padding=0, dilation=1, ceil_mode=False)\n",
       "  )\n",
       "  (avgpool): AdaptiveAvgPool2d(output_size=(7, 7))\n",
       "  (classifier): Sequential(\n",
       "    (0): Linear(in_features=25088, out_features=4096, bias=True)\n",
       "    (1): ReLU(inplace=True)\n",
       "    (2): Dropout(p=0.5, inplace=False)\n",
       "    (3): Linear(in_features=4096, out_features=4096, bias=True)\n",
       "    (4): ReLU(inplace=True)\n",
       "    (5): Dropout(p=0.5, inplace=False)\n",
       "    (6): Linear(in_features=4096, out_features=2, bias=True)\n",
       "  )\n",
       ")"
      ]
     },
     "execution_count": 3,
     "metadata": {},
     "output_type": "execute_result"
    }
   ],
   "source": [
    "#create model instance\n",
    "net=models.vgg16(pretrained=True)\n",
    "\n",
    "#change output layer for fine tuning\n",
    "net.classifier[6]=nn.Linear(in_features=4096,out_features=2)\n",
    "\n",
    "#set train mode\n",
    "net.train()"
   ]
  },
  {
   "cell_type": "markdown",
   "metadata": {},
   "source": [
    "### Loss function "
   ]
  },
  {
   "cell_type": "code",
   "execution_count": 4,
   "metadata": {},
   "outputs": [],
   "source": [
    "criterion=nn.CrossEntropyLoss()"
   ]
  },
  {
   "cell_type": "markdown",
   "metadata": {},
   "source": [
    "### Optimizer\n",
    "- 모든 layer의 parameter 학습 가능하도록 작성"
   ]
  },
  {
   "cell_type": "code",
   "execution_count": 5,
   "metadata": {},
   "outputs": [
    {
     "name": "stdout",
     "output_type": "stream",
     "text": [
      "params to update[1]에 features.0.weight 저장\n",
      "params to update[1]에 features.0.bias 저장\n",
      "params to update[1]에 features.2.weight 저장\n",
      "params to update[1]에 features.2.bias 저장\n",
      "params to update[1]에 features.5.weight 저장\n",
      "params to update[1]에 features.5.bias 저장\n",
      "params to update[1]에 features.7.weight 저장\n",
      "params to update[1]에 features.7.bias 저장\n",
      "params to update[1]에 features.10.weight 저장\n",
      "params to update[1]에 features.10.bias 저장\n",
      "params to update[1]에 features.12.weight 저장\n",
      "params to update[1]에 features.12.bias 저장\n",
      "params to update[1]에 features.14.weight 저장\n",
      "params to update[1]에 features.14.bias 저장\n",
      "params to update[1]에 features.17.weight 저장\n",
      "params to update[1]에 features.17.bias 저장\n",
      "params to update[1]에 features.19.weight 저장\n",
      "params to update[1]에 features.19.bias 저장\n",
      "params to update[1]에 features.21.weight 저장\n",
      "params to update[1]에 features.21.bias 저장\n",
      "params to update[1]에 features.24.weight 저장\n",
      "params to update[1]에 features.24.bias 저장\n",
      "params to update[1]에 features.26.weight 저장\n",
      "params to update[1]에 features.26.bias 저장\n",
      "params to update[1]에 features.28.weight 저장\n",
      "params to update[1]에 features.28.bias 저장\n",
      "params to update[2]에 classifier.0.bias 저장\n",
      "params to update[2]에 classifier.3.weight 저장\n",
      "params to update[2]에 classifier.3.bias 저장\n",
      "params to update[3]에 classifier.6.weight 저장\n",
      "params to update[3]에 classifier.6.bias 저장\n"
     ]
    }
   ],
   "source": [
    "#학습할 파라미터 (with fine tuning)\n",
    "params_to_update=[[] for i in range(3)]\n",
    "\n",
    "#학습할 층의 파라미터이름 지정\n",
    "update_param_name=[[\"features\"],[\"classifier.0.bias\",\"classifier.3.weight\",\"classifier.3.bias\"],[\"classifier.6.weight\",\"classifier.6.bias\"]]\n",
    "\n",
    "#각 리스트에 파라미터 저장\n",
    "for name,param in net.named_parameters():\n",
    "    for i in range(3):\n",
    "        if update_param_name[i][0] in name or name in update_param_name[i]:\n",
    "            param.requires_grad=True\n",
    "            params_to_update[i].append(param)\n",
    "            print(f\"params to update[{i+1}]에 {name} 저장\")"
   ]
  },
  {
   "cell_type": "code",
   "execution_count": 6,
   "metadata": {},
   "outputs": [],
   "source": [
    "lr_list=[1e-4,5e-4,1e-3]\n",
    "\n",
    "optimizer=optim.SGD([\n",
    "    {'params':params_to_update[idx],'lr':lr} for idx,lr in enumerate(lr_list)\n",
    "],momentum=0.9)"
   ]
  },
  {
   "cell_type": "markdown",
   "metadata": {},
   "source": [
    "### training\n",
    "https://sincerechloe.tistory.com/44"
   ]
  },
  {
   "cell_type": "code",
   "execution_count": null,
   "metadata": {},
   "outputs": [],
   "source": [
    "def train_model(net,dataloaders_dict,criterion,optimizer,num_epochs):\n",
    "    \n",
    "    device=torch.device(\"cuda:0\" if torch.cuda.is_available() else \"cpu\")\n",
    "    print(device)\n",
    "\n",
    "    net.to(device)\n",
    "\n",
    "    torch.backends.cudnn.benchmark=True\n",
    "\n",
    "    for epoch in range(num_epochs):\n",
    "        print(f\"Epoch{epoch+1}/{num_epochs}\")\n",
    "        for phase in [\"train\",\"val\"]:\n",
    "            if phase==\"train\":\n",
    "                net.train()\n",
    "            else: net.eval()\n",
    "\n",
    "            epoch_loss=0.0 #loss 합\n",
    "            epoch_correct=0 #정답 수\n",
    "\n",
    "            if epoch==0 and phase==\"train\":\n",
    "                continue\n",
    "            \n",
    "            for inputs,labels in tqdm(dataloaders_dict[phase]):\n",
    "\n",
    "                inputs=inputs.to(device)\n",
    "                labels=labels.to(device)\n",
    "\n",
    "                optimizer.zero_grad()\n",
    "                with torch.set_grad_enabled(phase==\"train\"):\n",
    "                    outputs=net(inputs)\n",
    "                    loss=criterion(outputs,labels)\n",
    "                    _,preds=torch.max(outputs,1)\n",
    "                    if phase==\"train\":\n",
    "                        loss.backward()\n",
    "                        optimizer.step()\n",
    "                    \n",
    "                    epoch_loss+=loss.items()*inputs.size(0)\n",
    "                    epoch_correct+=torch.sum(preds==labels.data)\n",
    "            epoch_loss/=len(dataloaders_dict[phase].dataset)\n",
    "            epoch_accuracy =epoch_correct.double()/len(dataloaders_dict[phase].dataset)\n",
    "\n",
    "            print(f\"{phase} Loss:{epoch_loss}, Accuracy:{epoch_accuracy}\")            "
   ]
  },
  {
   "cell_type": "code",
   "execution_count": 8,
   "metadata": {},
   "outputs": [
    {
     "name": "stdout",
     "output_type": "stream",
     "text": [
      "cpu\n",
      "Epoch1/2\n"
     ]
    },
    {
     "name": "stderr",
     "output_type": "stream",
     "text": [
      "  0%|          | 0/5 [00:00<?, ?it/s]"
     ]
    }
   ],
   "source": [
    "num_epochs=2\n",
    "train_model(net,dataloaders_dict,criterion,optimizer,num_epochs)"
   ]
  },
  {
   "cell_type": "markdown",
   "metadata": {},
   "source": [
    "### save and load trained network"
   ]
  },
  {
   "cell_type": "code",
   "execution_count": 7,
   "metadata": {},
   "outputs": [
    {
     "ename": "NameError",
     "evalue": "name 'net' is not defined",
     "output_type": "error",
     "traceback": [
      "\u001b[0;31m---------------------------------------------------------------------------\u001b[0m",
      "\u001b[0;31mNameError\u001b[0m                                 Traceback (most recent call last)",
      "\u001b[1;32m/home/kist/nimod/pytorch deep learning/1_image_classification/fine_tuning.ipynb Cell 17'\u001b[0m in \u001b[0;36m<cell line: 2>\u001b[0;34m()\u001b[0m\n\u001b[1;32m      <a href='vscode-notebook-cell:/home/kist/nimod/pytorch%20deep%20learning/1_image_classification/fine_tuning.ipynb#ch0000017?line=0'>1</a>\u001b[0m save_path\u001b[39m=\u001b[39m\u001b[39m'\u001b[39m\u001b[39m./weights_fine_tuning.pth\u001b[39m\u001b[39m'\u001b[39m\n\u001b[0;32m----> <a href='vscode-notebook-cell:/home/kist/nimod/pytorch%20deep%20learning/1_image_classification/fine_tuning.ipynb#ch0000017?line=1'>2</a>\u001b[0m torch\u001b[39m.\u001b[39msave(net\u001b[39m.\u001b[39mstate_dict(),save_path)\n",
      "\u001b[0;31mNameError\u001b[0m: name 'net' is not defined"
     ]
    }
   ],
   "source": [
    "save_path='./weights_fine_tuning.pth'\n",
    "torch.save(net.state_dict(),save_path)"
   ]
  },
  {
   "cell_type": "code",
   "execution_count": null,
   "metadata": {},
   "outputs": [],
   "source": [
    "load_path='./weight_fine_tuing.pth'\n",
    "load_weights=torch.load(load_path)\n",
    "net.load_state_dict(load_weights)\n",
    "\n",
    "load_weights=torch.load(load_path,map_location={'cuda:0':'cpu'})\n",
    "net.load_state_dict(load_weights)"
   ]
  }
 ],
 "metadata": {
  "interpreter": {
   "hash": "415c659548b03e5a7ab126dcfbb4fc7162127f64c5d6abf067896d088a8939b1"
  },
  "kernelspec": {
   "display_name": "Python 3.9.7 ('pytorchDeepLearning')",
   "language": "python",
   "name": "python3"
  },
  "language_info": {
   "codemirror_mode": {
    "name": "ipython",
    "version": 3
   },
   "file_extension": ".py",
   "mimetype": "text/x-python",
   "name": "python",
   "nbconvert_exporter": "python",
   "pygments_lexer": "ipython3",
   "version": "3.9.7"
  },
  "orig_nbformat": 4
 },
 "nbformat": 4,
 "nbformat_minor": 2
}
