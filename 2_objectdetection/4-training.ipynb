{
 "cells": [
  {
   "cell_type": "code",
   "execution_count": 2,
   "metadata": {},
   "outputs": [],
   "source": [
    "import os.path as osp\n",
    "import random\n",
    "import time\n",
    "\n",
    "import cv2\n",
    "import numpy as np\n",
    "import pandas as pd\n",
    "import torch\n",
    "import torch.nn as nn\n",
    "import torch.nn.init as init\n",
    "import torch.optim as optim\n",
    "import torch.utils.data as data"
   ]
  },
  {
   "cell_type": "code",
   "execution_count": 3,
   "metadata": {},
   "outputs": [
    {
     "name": "stdout",
     "output_type": "stream",
     "text": [
      "cuda:0\n"
     ]
    }
   ],
   "source": [
    "device = torch.device(\"cuda:0\" if torch.cuda.is_available() else \"cpu\")\n",
    "print(device)"
   ]
  },
  {
   "cell_type": "code",
   "execution_count": 8,
   "metadata": {},
   "outputs": [],
   "source": [
    "from utils.ssd_model import make_datapath_list,VOCDataset,DataTransform,Anno_xml2list,od_collate_fn\n",
    "\n",
    "\n",
    "root_path=\"./data/VOCdevkit/VOC2012/\"\n",
    "\n",
    "train_img_list,train_anno_list,val_img_list,val_anno_list=make_datapath_list(root_path)\n",
    "\n",
    "voc_classes=['aeroplane','bicycle','bird','boat','bottle','bus','car','cat','chair','cow','diningtable','dog','horse','motorbike','person','pottedplant','sheep','sofa','train','tvmonitor']\n",
    "color_mean=(104,117,123)\n",
    "input_size=300\n",
    "\n",
    "train_dataset=VOCDataset(train_img_list,train_anno_list,phase=\"train\",transform=DataTransform(input_size,color_mean),transform_anno=Anno_xml2list(voc_classes))\n",
    "val_dataset=VOCDataset(val_img_list,val_anno_list,phase=\"val\",transform=DataTransform(input_size,color_mean),transform_anno=Anno_xml2list(voc_classes))\n",
    "\n",
    "batch_size=32\n",
    "train_dataloader=data.DataLoader(train_dataset,batch_size=batch_size,shuffle=True,collate_fn=od_collate_fn)\n",
    "val_dataloader=data.DataLoader(val_dataset,batch_size=batch_size,shuffle=False,collate_fn=od_collate_fn)\n",
    "dataloaders_dict={\"train\":train_dataloader,\"val\":val_dataloader}\n"
   ]
  },
  {
   "cell_type": "markdown",
   "metadata": {},
   "source": [
    "VGG 외 모듈의 초기 값으로 He를 사용\n",
    "He: ReLU를 activation function인 경우 사용\n",
    "- Kaiming He가 처음 제안해서 함수 명이 kaiming_normal_\n"
   ]
  },
  {
   "cell_type": "code",
   "execution_count": 12,
   "metadata": {},
   "outputs": [
    {
     "data": {
      "text/plain": [
       "ModuleList(\n",
       "  (0): Conv2d(512, 84, kernel_size=(3, 3), stride=(1, 1), padding=(1, 1))\n",
       "  (1): Conv2d(1024, 126, kernel_size=(3, 3), stride=(1, 1), padding=(1, 1))\n",
       "  (2): Conv2d(512, 126, kernel_size=(3, 3), stride=(1, 1), padding=(1, 1))\n",
       "  (3): Conv2d(256, 126, kernel_size=(3, 3), stride=(1, 1), padding=(1, 1))\n",
       "  (4): Conv2d(256, 84, kernel_size=(3, 3), stride=(1, 1), padding=(1, 1))\n",
       "  (5): Conv2d(256, 84, kernel_size=(3, 3), stride=(1, 1), padding=(1, 1))\n",
       ")"
      ]
     },
     "execution_count": 12,
     "metadata": {},
     "output_type": "execute_result"
    }
   ],
   "source": [
    "from utils.ssd_model import SSD\n",
    "\n",
    "ssd_cfg={\n",
    "    'num_classes':21, #include background class\n",
    "    'input_size':300, \n",
    "    'bbox_aspect_num':[4,6,6,6,4,4], #DBox 화면비 \n",
    "    'feature_maps':[38,19,10,5,3,1], #각 source 별 화상 크기\n",
    "    'steps':[8,16,32,64,100,300], \n",
    "    'min_sizes':[30,60,111,162,213,264], #DBox 최소 크기\n",
    "    'max_sizes':[60,111,162,213,264,315],\n",
    "    'aspect_ratios':[[2],[2,3],[2,3],[2,3],[2],[2]]\n",
    "}\n",
    "\n",
    "net=SSD(phase=\"train\",cfg=ssd_cfg)\n",
    "\n",
    "#load weight of vgg\n",
    "vgg_weights=torch.load('./weights/vgg16_reducedfc.pth')\n",
    "net.vgg.load_state_dict(vgg_weights)\n",
    "\n",
    "\n",
    "#vgg 제외한 네트워크 He 초기화\n",
    "def weights_init(m):\n",
    "    if isinstance(m,nn.Conv2d):\n",
    "        init.kaiming_normal_(m.weight.data)\n",
    "        if m.bias is not None:\n",
    "            nn.init.constant_(m.bias,0.0)\n",
    "\n",
    "net.extras.apply(weights_init)\n",
    "net.loc.apply(weights_init)\n",
    "net.conf.apply(weights_init)"
   ]
  },
  {
   "cell_type": "code",
   "execution_count": 13,
   "metadata": {},
   "outputs": [],
   "source": [
    "from utils.ssd_model import MultiBoxLoss\n",
    "\n",
    "criterion=MultiBoxLoss(jaccard_thresh=0.5, neg_pos=3,device=device)\n",
    "\n",
    "optimizer=optim.SGD(net.parameters(),lr=1e-3,momentum=0.9,weight_decay=5e-4)"
   ]
  },
  {
   "cell_type": "code",
   "execution_count": 32,
   "metadata": {},
   "outputs": [],
   "source": [
    "def train_model(net,dataloaders_dict,criterion,optimizer,num_epochs):\n",
    "    device=torch.device(\"cuda:0\" if torch.cuda.is_available() else \"cpu\")\n",
    "    print(device)\n",
    "    net.to(device)\n",
    "\n",
    "    torch.backends.cudnn.benchmark=True\n",
    "\n",
    "    iteration=1\n",
    "    epoch_train_loss=0.0\n",
    "    epoch_val_loss=0.0\n",
    "    logs=[]\n",
    "\n",
    "    for epoch in range(num_epochs+1):\n",
    "        t_epoch_start=time.time()\n",
    "        t_iter_start=time.time()\n",
    "\n",
    "        print(f\"Epoch {epoch+1}/{num_epochs}\")\n",
    "\n",
    "        for phase in ['train','val']:\n",
    "            if phase==\"train\":\n",
    "                net.train()\n",
    "                print(\"[train]\")\n",
    "            else:\n",
    "                if (epoch+1)%10==0:\n",
    "                    net.eval()\n",
    "                    print(\"[val]\")\n",
    "                else:\n",
    "                    continue\n",
    "            \n",
    "            for images,targets in dataloaders_dict[phase]:\n",
    "                images=images.to(device)\n",
    "                targets=[target.to(device) for target in targets]\n",
    "                \n",
    "                optimizer.zero_grad()\n",
    "            \n",
    "                with torch.set_grad_enabled(phase=='train'):\n",
    "                    outputs=net(images)\n",
    "                    loss_l,loss_c=criterion(outputs,targets)\n",
    "                    loss=loss_l+loss_c\n",
    "                    if phase==\"train\":\n",
    "                        loss.backward()\n",
    "                        \n",
    "                        nn.utils.clip_grad_value_(net.parameters(),clip_value=2.0)\n",
    "\n",
    "                        optimizer.step()\n",
    "\n",
    "                        if iteration%10==0:\n",
    "                            t_iter_finish=time.time()\n",
    "                            print(\"[%s] loss:%.4f || sec:%.4f\"%(iteration,loss.item(),t_iter_finish-t_iter_start))\n",
    "                            t_iter_start=time.time()\n",
    "                        \n",
    "                        epoch_train_loss+=loss.item()\n",
    "                        iteration+=1\n",
    "                    else:\n",
    "                        epoch_val_loss+=loss.item()\n",
    "        t_epoch_finish=time.time()\n",
    "        print(\"[%s] train_loss: %.4f || val_loss: %.4f || sec:%.4f\"%(epoch+1,epoch_train_loss,epoch_val_loss,t_epoch_finish-t_epoch_start))\n",
    "        t_epoch_start=time.time()\n",
    "\n",
    "        log_epoch={'epoch':epoch+1,'train_loss':epoch_train_loss,'val_loss':epoch_val_loss}\n",
    "        logs.append(log_epoch)\n",
    "        df=pd.DataFrame(logs)\n",
    "        df.to_csv(\"log_output.csv\")\n",
    "\n",
    "        epoch_train_loss=0.0\n",
    "        epoch_val_loss=0.0\n",
    "        if (epoch+1)%10==0:\n",
    "            torch.save(net.state_dict(),f'weights/ssd300_{str(epoch+1)}.pth')"
   ]
  },
  {
   "cell_type": "code",
   "execution_count": 33,
   "metadata": {},
   "outputs": [
    {
     "name": "stdout",
     "output_type": "stream",
     "text": [
      "cuda:0\n",
      "Epoch 1/50\n",
      "[train]\n",
      "[10] loss:6.0245 || sec:6.2661\n",
      "[20] loss:6.0080 || sec:6.1303\n",
      "[30] loss:6.0311 || sec:6.5867\n",
      "[40] loss:6.0588 || sec:6.2475\n",
      "[50] loss:5.6995 || sec:6.5077\n",
      "[60] loss:6.0300 || sec:6.1962\n",
      "[70] loss:5.3181 || sec:6.2928\n",
      "[80] loss:5.6360 || sec:6.4314\n",
      "[90] loss:6.3560 || sec:6.4371\n",
      "[100] loss:6.1098 || sec:6.3622\n",
      "[110] loss:5.4636 || sec:6.1683\n",
      "[120] loss:5.6870 || sec:6.3376\n",
      "[130] loss:6.0577 || sec:6.2643\n",
      "[140] loss:5.6380 || sec:6.3093\n",
      "[150] loss:5.9108 || sec:6.1605\n",
      "[160] loss:5.5446 || sec:6.2786\n",
      "[170] loss:5.9732 || sec:6.4384\n",
      "[1] train_loss: 1040.9310 || val_loss: 0.0000 || sec:115.6383\n",
      "Epoch 2/50\n",
      "[train]\n"
     ]
    },
    {
     "name": "stderr",
     "output_type": "stream",
     "text": [
      "/home/kist/nimod/pytorch deep learning/2_objectdetection/utils/data_augumentation.py:246: VisibleDeprecationWarning: Creating an ndarray from ragged nested sequences (which is a list-or-tuple of lists-or-tuples-or ndarrays with different lengths or shapes) is deprecated. If you meant to do this, you must specify 'dtype=object' when creating the ndarray.\n",
      "  mode = random.choice(self.sample_options)\n",
      "/home/kist/anaconda3/envs/pytorchDeepLearning/lib/python3.9/site-packages/torch/nn/functional.py:780: UserWarning: Note that order of the arguments: ceil_mode and return_indices will changeto match the args list in nn.MaxPool2d in a future release.\n",
      "  warnings.warn(\"Note that order of the arguments: ceil_mode and return_indices will change\"\n"
     ]
    },
    {
     "name": "stdout",
     "output_type": "stream",
     "text": [
      "[180] loss:5.5956 || sec:0.5501\n",
      "[190] loss:5.9396 || sec:6.3746\n",
      "[200] loss:5.7023 || sec:6.1061\n",
      "[210] loss:5.7794 || sec:6.2572\n",
      "[220] loss:5.8671 || sec:6.2486\n",
      "[230] loss:5.4493 || sec:6.0414\n",
      "[240] loss:5.4360 || sec:6.3778\n",
      "[250] loss:5.8143 || sec:6.3506\n",
      "[260] loss:6.1212 || sec:6.1737\n",
      "[270] loss:5.3706 || sec:5.9689\n",
      "[280] loss:5.4424 || sec:6.2701\n",
      "[290] loss:5.2804 || sec:6.1841\n",
      "[300] loss:5.1554 || sec:6.3776\n",
      "[310] loss:5.5596 || sec:5.9340\n",
      "[320] loss:5.2456 || sec:6.2193\n",
      "[330] loss:5.6825 || sec:6.0958\n",
      "[340] loss:5.5464 || sec:6.1965\n",
      "[350] loss:5.3899 || sec:6.2433\n",
      "[2] train_loss: 995.1711 || val_loss: 0.0000 || sec:113.5353\n",
      "Epoch 3/50\n",
      "[train]\n"
     ]
    },
    {
     "name": "stderr",
     "output_type": "stream",
     "text": [
      "/home/kist/nimod/pytorch deep learning/2_objectdetection/utils/data_augumentation.py:246: VisibleDeprecationWarning: Creating an ndarray from ragged nested sequences (which is a list-or-tuple of lists-or-tuples-or ndarrays with different lengths or shapes) is deprecated. If you meant to do this, you must specify 'dtype=object' when creating the ndarray.\n",
      "  mode = random.choice(self.sample_options)\n",
      "/home/kist/anaconda3/envs/pytorchDeepLearning/lib/python3.9/site-packages/torch/nn/functional.py:780: UserWarning: Note that order of the arguments: ceil_mode and return_indices will changeto match the args list in nn.MaxPool2d in a future release.\n",
      "  warnings.warn(\"Note that order of the arguments: ceil_mode and return_indices will change\"\n"
     ]
    },
    {
     "name": "stdout",
     "output_type": "stream",
     "text": [
      "[360] loss:5.6645 || sec:1.1514\n",
      "[370] loss:5.5686 || sec:6.1808\n",
      "[380] loss:5.0410 || sec:6.4073\n",
      "[390] loss:5.6275 || sec:6.0394\n",
      "[400] loss:5.5631 || sec:6.0560\n",
      "[410] loss:5.2125 || sec:6.1981\n",
      "[420] loss:5.3418 || sec:6.0568\n",
      "[430] loss:5.7091 || sec:6.2164\n",
      "[440] loss:5.2445 || sec:5.8504\n",
      "[450] loss:4.9435 || sec:6.0098\n",
      "[460] loss:5.5180 || sec:6.1093\n",
      "[470] loss:5.2055 || sec:6.2019\n",
      "[480] loss:4.9967 || sec:6.1259\n",
      "[490] loss:5.0624 || sec:6.1362\n",
      "[500] loss:4.8156 || sec:6.2375\n",
      "[510] loss:5.3581 || sec:6.2228\n",
      "[520] loss:5.4839 || sec:6.3969\n",
      "[530] loss:5.0988 || sec:6.3188\n",
      "[3] train_loss: 958.0563 || val_loss: 0.0000 || sec:112.9445\n",
      "Epoch 4/50\n",
      "[train]\n"
     ]
    },
    {
     "name": "stderr",
     "output_type": "stream",
     "text": [
      "/home/kist/nimod/pytorch deep learning/2_objectdetection/utils/data_augumentation.py:246: VisibleDeprecationWarning: Creating an ndarray from ragged nested sequences (which is a list-or-tuple of lists-or-tuples-or ndarrays with different lengths or shapes) is deprecated. If you meant to do this, you must specify 'dtype=object' when creating the ndarray.\n",
      "  mode = random.choice(self.sample_options)\n",
      "/home/kist/anaconda3/envs/pytorchDeepLearning/lib/python3.9/site-packages/torch/nn/functional.py:780: UserWarning: Note that order of the arguments: ceil_mode and return_indices will changeto match the args list in nn.MaxPool2d in a future release.\n",
      "  warnings.warn(\"Note that order of the arguments: ceil_mode and return_indices will change\"\n"
     ]
    },
    {
     "name": "stdout",
     "output_type": "stream",
     "text": [
      "[540] loss:5.6758 || sec:1.7810\n",
      "[550] loss:5.4616 || sec:6.1986\n",
      "[560] loss:5.3108 || sec:6.1392\n",
      "[570] loss:5.3248 || sec:6.0078\n",
      "[580] loss:4.6187 || sec:6.1624\n",
      "[590] loss:5.5151 || sec:6.0458\n",
      "[600] loss:5.0873 || sec:6.2190\n",
      "[610] loss:5.2438 || sec:6.3493\n",
      "[620] loss:4.7606 || sec:6.0079\n",
      "[630] loss:5.0061 || sec:6.2420\n",
      "[640] loss:5.0490 || sec:6.1307\n",
      "[650] loss:5.4433 || sec:6.2340\n",
      "[660] loss:4.7805 || sec:6.2380\n",
      "[670] loss:5.3220 || sec:6.1329\n",
      "[680] loss:4.7639 || sec:6.1010\n",
      "[690] loss:4.6402 || sec:6.1131\n",
      "[700] loss:6.0690 || sec:6.2953\n",
      "[710] loss:5.2935 || sec:6.1478\n",
      "[4] train_loss: 920.6578 || val_loss: 0.0000 || sec:112.9762\n",
      "Epoch 5/50\n",
      "[train]\n"
     ]
    },
    {
     "name": "stderr",
     "output_type": "stream",
     "text": [
      "/home/kist/nimod/pytorch deep learning/2_objectdetection/utils/data_augumentation.py:246: VisibleDeprecationWarning: Creating an ndarray from ragged nested sequences (which is a list-or-tuple of lists-or-tuples-or ndarrays with different lengths or shapes) is deprecated. If you meant to do this, you must specify 'dtype=object' when creating the ndarray.\n",
      "  mode = random.choice(self.sample_options)\n",
      "/home/kist/anaconda3/envs/pytorchDeepLearning/lib/python3.9/site-packages/torch/nn/functional.py:780: UserWarning: Note that order of the arguments: ceil_mode and return_indices will changeto match the args list in nn.MaxPool2d in a future release.\n",
      "  warnings.warn(\"Note that order of the arguments: ceil_mode and return_indices will change\"\n"
     ]
    },
    {
     "name": "stdout",
     "output_type": "stream",
     "text": [
      "[720] loss:5.1199 || sec:2.4745\n",
      "[730] loss:5.7893 || sec:6.2962\n",
      "[740] loss:4.8021 || sec:6.1484\n",
      "[750] loss:5.2767 || sec:5.9595\n",
      "[760] loss:4.6228 || sec:6.1045\n",
      "[770] loss:4.7126 || sec:6.1836\n",
      "[780] loss:5.1746 || sec:6.1675\n",
      "[790] loss:5.2134 || sec:6.0133\n",
      "[800] loss:4.9863 || sec:6.2863\n",
      "[810] loss:5.2774 || sec:6.0927\n",
      "[820] loss:4.6631 || sec:6.2106\n",
      "[830] loss:4.6590 || sec:6.0940\n",
      "[840] loss:4.5633 || sec:6.0739\n",
      "[850] loss:5.1437 || sec:6.0755\n",
      "[860] loss:5.0310 || sec:6.3948\n",
      "[870] loss:5.1206 || sec:5.9678\n",
      "[880] loss:5.1736 || sec:6.1682\n",
      "[890] loss:5.1557 || sec:6.3536\n",
      "[5] train_loss: 897.2882 || val_loss: 0.0000 || sec:112.7259\n",
      "Epoch 6/50\n",
      "[train]\n"
     ]
    },
    {
     "name": "stderr",
     "output_type": "stream",
     "text": [
      "/home/kist/nimod/pytorch deep learning/2_objectdetection/utils/data_augumentation.py:246: VisibleDeprecationWarning: Creating an ndarray from ragged nested sequences (which is a list-or-tuple of lists-or-tuples-or ndarrays with different lengths or shapes) is deprecated. If you meant to do this, you must specify 'dtype=object' when creating the ndarray.\n",
      "  mode = random.choice(self.sample_options)\n",
      "/home/kist/anaconda3/envs/pytorchDeepLearning/lib/python3.9/site-packages/torch/nn/functional.py:780: UserWarning: Note that order of the arguments: ceil_mode and return_indices will changeto match the args list in nn.MaxPool2d in a future release.\n",
      "  warnings.warn(\"Note that order of the arguments: ceil_mode and return_indices will change\"\n"
     ]
    },
    {
     "name": "stdout",
     "output_type": "stream",
     "text": [
      "[900] loss:4.9137 || sec:3.3642\n",
      "[910] loss:4.3351 || sec:6.3326\n",
      "[920] loss:4.1609 || sec:6.0599\n",
      "[930] loss:5.0052 || sec:5.9635\n",
      "[940] loss:4.3016 || sec:6.2173\n",
      "[950] loss:4.9142 || sec:6.1183\n",
      "[960] loss:4.3175 || sec:6.0819\n",
      "[970] loss:4.9260 || sec:6.2050\n",
      "[980] loss:4.2468 || sec:6.1618\n",
      "[990] loss:5.1828 || sec:6.1720\n",
      "[1000] loss:4.2885 || sec:6.2015\n",
      "[1010] loss:4.8081 || sec:6.2452\n",
      "[1020] loss:5.5087 || sec:6.3673\n",
      "[1030] loss:4.6680 || sec:6.3701\n",
      "[1040] loss:4.7664 || sec:6.0323\n",
      "[1050] loss:4.4528 || sec:6.2939\n",
      "[1060] loss:4.7420 || sec:6.2240\n",
      "[1070] loss:4.8539 || sec:6.3552\n",
      "[6] train_loss: 867.8962 || val_loss: 0.0000 || sec:113.8266\n",
      "Epoch 7/50\n",
      "[train]\n"
     ]
    },
    {
     "name": "stderr",
     "output_type": "stream",
     "text": [
      "/home/kist/nimod/pytorch deep learning/2_objectdetection/utils/data_augumentation.py:246: VisibleDeprecationWarning: Creating an ndarray from ragged nested sequences (which is a list-or-tuple of lists-or-tuples-or ndarrays with different lengths or shapes) is deprecated. If you meant to do this, you must specify 'dtype=object' when creating the ndarray.\n",
      "  mode = random.choice(self.sample_options)\n",
      "/home/kist/anaconda3/envs/pytorchDeepLearning/lib/python3.9/site-packages/torch/nn/functional.py:780: UserWarning: Note that order of the arguments: ceil_mode and return_indices will changeto match the args list in nn.MaxPool2d in a future release.\n",
      "  warnings.warn(\"Note that order of the arguments: ceil_mode and return_indices will change\"\n"
     ]
    },
    {
     "name": "stdout",
     "output_type": "stream",
     "text": [
      "[1080] loss:4.2274 || sec:3.5126\n",
      "[1090] loss:5.0206 || sec:6.2238\n",
      "[1100] loss:4.6297 || sec:6.1739\n",
      "[1110] loss:4.5367 || sec:6.1224\n",
      "[1120] loss:4.5227 || sec:6.1635\n",
      "[1130] loss:4.4037 || sec:6.0971\n",
      "[1140] loss:5.0079 || sec:6.2065\n",
      "[1150] loss:5.1172 || sec:6.0762\n",
      "[1160] loss:4.7756 || sec:6.2574\n",
      "[1170] loss:5.0346 || sec:6.1505\n",
      "[1180] loss:4.8934 || sec:6.3383\n",
      "[1190] loss:4.9946 || sec:6.1790\n",
      "[1200] loss:4.6026 || sec:6.1497\n",
      "[1210] loss:4.1976 || sec:6.4575\n",
      "[1220] loss:4.5505 || sec:6.1154\n",
      "[1230] loss:4.8977 || sec:6.4488\n",
      "[1240] loss:5.5517 || sec:6.0572\n",
      "[1250] loss:4.5188 || sec:6.1871\n",
      "[7] train_loss: 854.0086 || val_loss: 0.0000 || sec:113.3243\n",
      "Epoch 8/50\n",
      "[train]\n"
     ]
    },
    {
     "name": "stderr",
     "output_type": "stream",
     "text": [
      "/home/kist/nimod/pytorch deep learning/2_objectdetection/utils/data_augumentation.py:246: VisibleDeprecationWarning: Creating an ndarray from ragged nested sequences (which is a list-or-tuple of lists-or-tuples-or ndarrays with different lengths or shapes) is deprecated. If you meant to do this, you must specify 'dtype=object' when creating the ndarray.\n",
      "  mode = random.choice(self.sample_options)\n",
      "/home/kist/anaconda3/envs/pytorchDeepLearning/lib/python3.9/site-packages/torch/nn/functional.py:780: UserWarning: Note that order of the arguments: ceil_mode and return_indices will changeto match the args list in nn.MaxPool2d in a future release.\n",
      "  warnings.warn(\"Note that order of the arguments: ceil_mode and return_indices will change\"\n"
     ]
    },
    {
     "name": "stdout",
     "output_type": "stream",
     "text": [
      "[1260] loss:4.3986 || sec:4.4801\n",
      "[1270] loss:4.7992 || sec:6.1307\n",
      "[1280] loss:4.0529 || sec:6.1530\n",
      "[1290] loss:4.9367 || sec:6.2074\n",
      "[1300] loss:4.2365 || sec:6.2304\n",
      "[1310] loss:4.0773 || sec:6.2265\n",
      "[1320] loss:4.3803 || sec:6.2244\n",
      "[1330] loss:4.9410 || sec:6.3024\n",
      "[1340] loss:3.7065 || sec:6.2156\n",
      "[1350] loss:4.3916 || sec:6.0851\n",
      "[1360] loss:4.8041 || sec:6.1089\n",
      "[1370] loss:4.9025 || sec:6.1923\n",
      "[1380] loss:4.6914 || sec:6.4674\n",
      "[1390] loss:4.6742 || sec:6.2634\n",
      "[1400] loss:4.5636 || sec:6.2456\n",
      "[1410] loss:4.7433 || sec:6.2658\n",
      "[1420] loss:5.0972 || sec:6.2394\n",
      "[1430] loss:4.5815 || sec:6.1261\n",
      "[8] train_loss: 838.0601 || val_loss: 0.0000 || sec:113.9352\n",
      "Epoch 9/50\n",
      "[train]\n"
     ]
    },
    {
     "name": "stderr",
     "output_type": "stream",
     "text": [
      "/home/kist/nimod/pytorch deep learning/2_objectdetection/utils/data_augumentation.py:246: VisibleDeprecationWarning: Creating an ndarray from ragged nested sequences (which is a list-or-tuple of lists-or-tuples-or ndarrays with different lengths or shapes) is deprecated. If you meant to do this, you must specify 'dtype=object' when creating the ndarray.\n",
      "  mode = random.choice(self.sample_options)\n",
      "/home/kist/anaconda3/envs/pytorchDeepLearning/lib/python3.9/site-packages/torch/nn/functional.py:780: UserWarning: Note that order of the arguments: ceil_mode and return_indices will changeto match the args list in nn.MaxPool2d in a future release.\n",
      "  warnings.warn(\"Note that order of the arguments: ceil_mode and return_indices will change\"\n"
     ]
    },
    {
     "name": "stdout",
     "output_type": "stream",
     "text": [
      "[1440] loss:4.5287 || sec:4.6009\n",
      "[1450] loss:4.9136 || sec:6.1501\n",
      "[1460] loss:5.0680 || sec:6.3587\n",
      "[1470] loss:4.4929 || sec:6.3074\n",
      "[1480] loss:4.8367 || sec:6.1042\n",
      "[1490] loss:4.8941 || sec:6.3077\n",
      "[1500] loss:4.0969 || sec:5.8965\n",
      "[1510] loss:4.4452 || sec:6.3539\n",
      "[1520] loss:4.2251 || sec:5.9347\n",
      "[1530] loss:5.1202 || sec:6.1061\n",
      "[1540] loss:4.5505 || sec:6.1358\n",
      "[1550] loss:4.5589 || sec:6.1770\n",
      "[1560] loss:4.4501 || sec:6.1210\n",
      "[1570] loss:5.3630 || sec:5.9955\n",
      "[1580] loss:4.4368 || sec:6.2295\n",
      "[1590] loss:5.0738 || sec:6.1141\n",
      "[1600] loss:4.8619 || sec:6.0236\n",
      "[1610] loss:4.4632 || sec:6.0447\n",
      "[9] train_loss: 823.9396 || val_loss: 0.0000 || sec:112.1262\n",
      "Epoch 10/50\n",
      "[train]\n"
     ]
    },
    {
     "name": "stderr",
     "output_type": "stream",
     "text": [
      "/home/kist/nimod/pytorch deep learning/2_objectdetection/utils/data_augumentation.py:246: VisibleDeprecationWarning: Creating an ndarray from ragged nested sequences (which is a list-or-tuple of lists-or-tuples-or ndarrays with different lengths or shapes) is deprecated. If you meant to do this, you must specify 'dtype=object' when creating the ndarray.\n",
      "  mode = random.choice(self.sample_options)\n",
      "/home/kist/anaconda3/envs/pytorchDeepLearning/lib/python3.9/site-packages/torch/nn/functional.py:780: UserWarning: Note that order of the arguments: ceil_mode and return_indices will changeto match the args list in nn.MaxPool2d in a future release.\n",
      "  warnings.warn(\"Note that order of the arguments: ceil_mode and return_indices will change\"\n"
     ]
    },
    {
     "name": "stdout",
     "output_type": "stream",
     "text": [
      "[1620] loss:4.5617 || sec:5.4526\n",
      "[1630] loss:4.2068 || sec:6.2884\n",
      "[1640] loss:4.7967 || sec:6.4543\n",
      "[1650] loss:4.4608 || sec:6.1566\n",
      "[1660] loss:3.6273 || sec:5.9694\n",
      "[1670] loss:4.4649 || sec:6.3472\n",
      "[1680] loss:4.6263 || sec:6.0442\n",
      "[1690] loss:4.2118 || sec:6.2711\n",
      "[1700] loss:4.1478 || sec:6.0500\n",
      "[1710] loss:4.4989 || sec:6.1214\n",
      "[1720] loss:4.5793 || sec:6.3199\n",
      "[1730] loss:4.1757 || sec:6.2999\n",
      "[1740] loss:4.6996 || sec:6.1600\n",
      "[1750] loss:4.5138 || sec:6.1430\n",
      "[1760] loss:4.3157 || sec:5.9810\n",
      "[1770] loss:4.9085 || sec:6.4272\n",
      "[1780] loss:4.1904 || sec:6.0950\n",
      "[1790] loss:4.6480 || sec:6.0390\n",
      "[val]\n",
      "[10] train_loss: 800.6558 || val_loss: 819.1312 || sec:163.0517\n",
      "Epoch 11/50\n",
      "[train]\n"
     ]
    },
    {
     "name": "stderr",
     "output_type": "stream",
     "text": [
      "/home/kist/nimod/pytorch deep learning/2_objectdetection/utils/data_augumentation.py:246: VisibleDeprecationWarning: Creating an ndarray from ragged nested sequences (which is a list-or-tuple of lists-or-tuples-or ndarrays with different lengths or shapes) is deprecated. If you meant to do this, you must specify 'dtype=object' when creating the ndarray.\n",
      "  mode = random.choice(self.sample_options)\n",
      "/home/kist/anaconda3/envs/pytorchDeepLearning/lib/python3.9/site-packages/torch/nn/functional.py:780: UserWarning: Note that order of the arguments: ceil_mode and return_indices will changeto match the args list in nn.MaxPool2d in a future release.\n",
      "  warnings.warn(\"Note that order of the arguments: ceil_mode and return_indices will change\"\n"
     ]
    },
    {
     "name": "stdout",
     "output_type": "stream",
     "text": [
      "[1800] loss:4.7451 || sec:6.0840\n",
      "[1810] loss:3.9567 || sec:6.2047\n",
      "[1820] loss:4.1221 || sec:6.2175\n",
      "[1830] loss:4.1839 || sec:6.3092\n",
      "[1840] loss:4.1593 || sec:6.2010\n",
      "[1850] loss:5.2513 || sec:6.0518\n",
      "[1860] loss:4.6210 || sec:6.0395\n",
      "[1870] loss:4.3445 || sec:6.2770\n",
      "[1880] loss:4.3136 || sec:6.0633\n",
      "[1890] loss:4.6148 || sec:6.0017\n",
      "[1900] loss:3.8634 || sec:6.0942\n",
      "[1910] loss:4.3029 || sec:6.1578\n",
      "[1920] loss:4.2445 || sec:6.4377\n",
      "[1930] loss:4.4768 || sec:6.1137\n",
      "[1940] loss:3.8789 || sec:6.1177\n",
      "[1950] loss:4.0473 || sec:6.3940\n",
      "[1960] loss:4.5374 || sec:6.0035\n",
      "[11] train_loss: 790.5806 || val_loss: 0.0000 || sec:112.8667\n",
      "Epoch 12/50\n",
      "[train]\n"
     ]
    },
    {
     "name": "stderr",
     "output_type": "stream",
     "text": [
      "/home/kist/nimod/pytorch deep learning/2_objectdetection/utils/data_augumentation.py:246: VisibleDeprecationWarning: Creating an ndarray from ragged nested sequences (which is a list-or-tuple of lists-or-tuples-or ndarrays with different lengths or shapes) is deprecated. If you meant to do this, you must specify 'dtype=object' when creating the ndarray.\n",
      "  mode = random.choice(self.sample_options)\n",
      "/home/kist/anaconda3/envs/pytorchDeepLearning/lib/python3.9/site-packages/torch/nn/functional.py:780: UserWarning: Note that order of the arguments: ceil_mode and return_indices will changeto match the args list in nn.MaxPool2d in a future release.\n",
      "  warnings.warn(\"Note that order of the arguments: ceil_mode and return_indices will change\"\n"
     ]
    },
    {
     "name": "stdout",
     "output_type": "stream",
     "text": [
      "[1970] loss:4.2291 || sec:0.5284\n",
      "[1980] loss:4.4889 || sec:6.0738\n",
      "[1990] loss:5.0195 || sec:6.1269\n",
      "[2000] loss:4.2347 || sec:6.1597\n",
      "[2010] loss:4.2979 || sec:6.1280\n",
      "[2020] loss:4.3858 || sec:6.4269\n",
      "[2030] loss:4.4295 || sec:6.0148\n",
      "[2040] loss:4.1290 || sec:6.1297\n",
      "[2050] loss:3.5228 || sec:6.2353\n",
      "[2060] loss:3.9682 || sec:6.3499\n",
      "[2070] loss:4.8260 || sec:6.1949\n",
      "[2080] loss:4.1522 || sec:6.0822\n",
      "[2090] loss:4.3943 || sec:6.1097\n",
      "[2100] loss:4.8016 || sec:6.2311\n",
      "[2110] loss:4.0297 || sec:6.2396\n",
      "[2120] loss:3.9231 || sec:6.1417\n",
      "[2130] loss:3.9032 || sec:6.1029\n",
      "[2140] loss:4.2399 || sec:6.1176\n",
      "[12] train_loss: 772.4901 || val_loss: 0.0000 || sec:112.7817\n",
      "Epoch 13/50\n",
      "[train]\n"
     ]
    },
    {
     "name": "stderr",
     "output_type": "stream",
     "text": [
      "/home/kist/nimod/pytorch deep learning/2_objectdetection/utils/data_augumentation.py:246: VisibleDeprecationWarning: Creating an ndarray from ragged nested sequences (which is a list-or-tuple of lists-or-tuples-or ndarrays with different lengths or shapes) is deprecated. If you meant to do this, you must specify 'dtype=object' when creating the ndarray.\n",
      "  mode = random.choice(self.sample_options)\n",
      "/home/kist/anaconda3/envs/pytorchDeepLearning/lib/python3.9/site-packages/torch/nn/functional.py:780: UserWarning: Note that order of the arguments: ceil_mode and return_indices will changeto match the args list in nn.MaxPool2d in a future release.\n",
      "  warnings.warn(\"Note that order of the arguments: ceil_mode and return_indices will change\"\n"
     ]
    },
    {
     "name": "stdout",
     "output_type": "stream",
     "text": [
      "[2150] loss:5.2373 || sec:1.1778\n",
      "[2160] loss:4.7711 || sec:6.1309\n",
      "[2170] loss:4.1182 || sec:6.1269\n",
      "[2180] loss:4.6245 || sec:6.1522\n",
      "[2190] loss:4.1902 || sec:6.1889\n",
      "[2200] loss:4.0901 || sec:6.2215\n",
      "[2210] loss:4.3116 || sec:6.1560\n",
      "[2220] loss:3.8522 || sec:5.8563\n",
      "[2230] loss:4.4500 || sec:6.4064\n",
      "[2240] loss:4.0548 || sec:6.4963\n",
      "[2250] loss:4.3530 || sec:5.9054\n",
      "[2260] loss:4.5174 || sec:6.2119\n",
      "[2270] loss:4.3851 || sec:6.2126\n",
      "[2280] loss:4.2431 || sec:6.4232\n",
      "[2290] loss:4.4075 || sec:6.1370\n",
      "[2300] loss:4.3684 || sec:6.1430\n",
      "[2310] loss:4.3556 || sec:6.1037\n",
      "[2320] loss:4.1022 || sec:6.0729\n",
      "[13] train_loss: 768.0368 || val_loss: 0.0000 || sec:113.1848\n",
      "Epoch 14/50\n",
      "[train]\n"
     ]
    },
    {
     "name": "stderr",
     "output_type": "stream",
     "text": [
      "/home/kist/nimod/pytorch deep learning/2_objectdetection/utils/data_augumentation.py:246: VisibleDeprecationWarning: Creating an ndarray from ragged nested sequences (which is a list-or-tuple of lists-or-tuples-or ndarrays with different lengths or shapes) is deprecated. If you meant to do this, you must specify 'dtype=object' when creating the ndarray.\n",
      "  mode = random.choice(self.sample_options)\n",
      "/home/kist/anaconda3/envs/pytorchDeepLearning/lib/python3.9/site-packages/torch/nn/functional.py:780: UserWarning: Note that order of the arguments: ceil_mode and return_indices will changeto match the args list in nn.MaxPool2d in a future release.\n",
      "  warnings.warn(\"Note that order of the arguments: ceil_mode and return_indices will change\"\n"
     ]
    },
    {
     "name": "stdout",
     "output_type": "stream",
     "text": [
      "[2330] loss:4.6994 || sec:1.7914\n",
      "[2340] loss:4.1047 || sec:6.0939\n",
      "[2350] loss:3.8755 || sec:6.3690\n",
      "[2360] loss:4.9155 || sec:6.2610\n",
      "[2370] loss:4.3537 || sec:6.1200\n",
      "[2380] loss:4.3451 || sec:6.0822\n",
      "[2390] loss:4.2094 || sec:6.0309\n",
      "[2400] loss:4.3726 || sec:6.0820\n",
      "[2410] loss:4.4632 || sec:6.0937\n",
      "[2420] loss:4.4253 || sec:6.1502\n",
      "[2430] loss:3.9283 || sec:6.1275\n",
      "[2440] loss:3.8789 || sec:5.9393\n",
      "[2450] loss:4.5257 || sec:6.3292\n",
      "[2460] loss:3.9199 || sec:6.1965\n",
      "[2470] loss:4.5511 || sec:6.3526\n",
      "[2480] loss:4.4531 || sec:6.0439\n",
      "[2490] loss:4.1914 || sec:6.0238\n",
      "[2500] loss:4.5078 || sec:6.0452\n",
      "[14] train_loss: 754.2951 || val_loss: 0.0000 || sec:112.4241\n",
      "Epoch 15/50\n",
      "[train]\n"
     ]
    },
    {
     "name": "stderr",
     "output_type": "stream",
     "text": [
      "/home/kist/nimod/pytorch deep learning/2_objectdetection/utils/data_augumentation.py:246: VisibleDeprecationWarning: Creating an ndarray from ragged nested sequences (which is a list-or-tuple of lists-or-tuples-or ndarrays with different lengths or shapes) is deprecated. If you meant to do this, you must specify 'dtype=object' when creating the ndarray.\n",
      "  mode = random.choice(self.sample_options)\n",
      "/home/kist/anaconda3/envs/pytorchDeepLearning/lib/python3.9/site-packages/torch/nn/functional.py:780: UserWarning: Note that order of the arguments: ceil_mode and return_indices will changeto match the args list in nn.MaxPool2d in a future release.\n",
      "  warnings.warn(\"Note that order of the arguments: ceil_mode and return_indices will change\"\n"
     ]
    },
    {
     "name": "stdout",
     "output_type": "stream",
     "text": [
      "[2510] loss:4.1172 || sec:2.2669\n",
      "[2520] loss:3.8766 || sec:6.0417\n",
      "[2530] loss:3.7291 || sec:6.1766\n",
      "[2540] loss:3.8578 || sec:6.1841\n",
      "[2550] loss:3.8356 || sec:6.3043\n",
      "[2560] loss:4.0975 || sec:6.2375\n",
      "[2570] loss:4.2726 || sec:6.2915\n",
      "[2580] loss:4.2597 || sec:6.2915\n",
      "[2590] loss:4.1196 || sec:6.1701\n",
      "[2600] loss:5.0814 || sec:6.2519\n",
      "[2610] loss:3.7671 || sec:6.3826\n",
      "[2620] loss:4.0019 || sec:6.2268\n",
      "[2630] loss:4.1455 || sec:6.1580\n",
      "[2640] loss:3.9576 || sec:6.3081\n",
      "[2650] loss:3.7559 || sec:6.2726\n",
      "[2660] loss:3.6901 || sec:6.3357\n",
      "[2670] loss:4.1526 || sec:6.1672\n",
      "[2680] loss:4.1078 || sec:6.1688\n",
      "[15] train_loss: 747.0102 || val_loss: 0.0000 || sec:113.9322\n",
      "Epoch 16/50\n",
      "[train]\n"
     ]
    },
    {
     "name": "stderr",
     "output_type": "stream",
     "text": [
      "/home/kist/nimod/pytorch deep learning/2_objectdetection/utils/data_augumentation.py:246: VisibleDeprecationWarning: Creating an ndarray from ragged nested sequences (which is a list-or-tuple of lists-or-tuples-or ndarrays with different lengths or shapes) is deprecated. If you meant to do this, you must specify 'dtype=object' when creating the ndarray.\n",
      "  mode = random.choice(self.sample_options)\n",
      "/home/kist/anaconda3/envs/pytorchDeepLearning/lib/python3.9/site-packages/torch/nn/functional.py:780: UserWarning: Note that order of the arguments: ceil_mode and return_indices will changeto match the args list in nn.MaxPool2d in a future release.\n",
      "  warnings.warn(\"Note that order of the arguments: ceil_mode and return_indices will change\"\n"
     ]
    },
    {
     "name": "stdout",
     "output_type": "stream",
     "text": [
      "[2690] loss:3.6638 || sec:2.9618\n",
      "[2700] loss:3.6420 || sec:6.1445\n",
      "[2710] loss:4.0016 || sec:5.9902\n",
      "[2720] loss:4.3062 || sec:6.1331\n",
      "[2730] loss:3.6966 || sec:6.4106\n",
      "[2740] loss:4.5237 || sec:6.3976\n",
      "[2750] loss:4.6625 || sec:6.1213\n",
      "[2760] loss:3.7646 || sec:6.0903\n",
      "[2770] loss:3.5730 || sec:6.0175\n",
      "[2780] loss:4.3184 || sec:6.2369\n",
      "[2790] loss:3.9215 || sec:6.2480\n",
      "[2800] loss:4.4180 || sec:6.2382\n",
      "[2810] loss:4.1642 || sec:6.2292\n",
      "[2820] loss:4.0606 || sec:6.1871\n",
      "[2830] loss:4.2858 || sec:6.3432\n",
      "[2840] loss:4.5629 || sec:6.1373\n",
      "[2850] loss:3.8293 || sec:6.3099\n",
      "[2860] loss:4.5257 || sec:6.2754\n",
      "[16] train_loss: 732.9086 || val_loss: 0.0000 || sec:113.4509\n",
      "Epoch 17/50\n",
      "[train]\n"
     ]
    },
    {
     "name": "stderr",
     "output_type": "stream",
     "text": [
      "/home/kist/nimod/pytorch deep learning/2_objectdetection/utils/data_augumentation.py:246: VisibleDeprecationWarning: Creating an ndarray from ragged nested sequences (which is a list-or-tuple of lists-or-tuples-or ndarrays with different lengths or shapes) is deprecated. If you meant to do this, you must specify 'dtype=object' when creating the ndarray.\n",
      "  mode = random.choice(self.sample_options)\n",
      "/home/kist/anaconda3/envs/pytorchDeepLearning/lib/python3.9/site-packages/torch/nn/functional.py:780: UserWarning: Note that order of the arguments: ceil_mode and return_indices will changeto match the args list in nn.MaxPool2d in a future release.\n",
      "  warnings.warn(\"Note that order of the arguments: ceil_mode and return_indices will change\"\n"
     ]
    },
    {
     "name": "stdout",
     "output_type": "stream",
     "text": [
      "[2870] loss:4.1764 || sec:3.5020\n",
      "[2880] loss:3.7243 || sec:6.0739\n",
      "[2890] loss:4.4873 || sec:6.1931\n",
      "[2900] loss:3.7165 || sec:5.9832\n",
      "[2910] loss:3.9205 || sec:5.9641\n",
      "[2920] loss:4.3995 || sec:6.0752\n",
      "[2930] loss:4.1753 || sec:6.1424\n",
      "[2940] loss:4.2804 || sec:6.2765\n",
      "[2950] loss:3.7490 || sec:6.1024\n",
      "[2960] loss:3.7712 || sec:6.3085\n",
      "[2970] loss:4.0025 || sec:6.2702\n",
      "[2980] loss:3.7079 || sec:6.0627\n",
      "[2990] loss:4.1066 || sec:6.3747\n",
      "[3000] loss:3.9362 || sec:6.1958\n",
      "[3010] loss:4.4489 || sec:6.2493\n",
      "[3020] loss:4.3000 || sec:5.9491\n",
      "[3030] loss:3.7963 || sec:6.2512\n",
      "[3040] loss:4.2129 || sec:6.0788\n",
      "[17] train_loss: 726.4445 || val_loss: 0.0000 || sec:112.4700\n",
      "Epoch 18/50\n",
      "[train]\n"
     ]
    },
    {
     "name": "stderr",
     "output_type": "stream",
     "text": [
      "/home/kist/nimod/pytorch deep learning/2_objectdetection/utils/data_augumentation.py:246: VisibleDeprecationWarning: Creating an ndarray from ragged nested sequences (which is a list-or-tuple of lists-or-tuples-or ndarrays with different lengths or shapes) is deprecated. If you meant to do this, you must specify 'dtype=object' when creating the ndarray.\n",
      "  mode = random.choice(self.sample_options)\n",
      "/home/kist/anaconda3/envs/pytorchDeepLearning/lib/python3.9/site-packages/torch/nn/functional.py:780: UserWarning: Note that order of the arguments: ceil_mode and return_indices will changeto match the args list in nn.MaxPool2d in a future release.\n",
      "  warnings.warn(\"Note that order of the arguments: ceil_mode and return_indices will change\"\n"
     ]
    },
    {
     "name": "stdout",
     "output_type": "stream",
     "text": [
      "[3050] loss:4.3089 || sec:4.4312\n",
      "[3060] loss:3.9135 || sec:6.1936\n",
      "[3070] loss:4.4551 || sec:6.3296\n",
      "[3080] loss:3.9369 || sec:6.3362\n",
      "[3090] loss:3.8006 || sec:6.1369\n",
      "[3100] loss:4.3533 || sec:6.2814\n",
      "[3110] loss:3.9626 || sec:6.1526\n",
      "[3120] loss:3.7591 || sec:6.1511\n",
      "[3130] loss:4.0158 || sec:6.0467\n",
      "[3140] loss:3.7149 || sec:6.1834\n",
      "[3150] loss:4.2109 || sec:6.1160\n",
      "[3160] loss:4.2903 || sec:6.1893\n",
      "[3170] loss:3.2928 || sec:6.1695\n",
      "[3180] loss:4.1429 || sec:6.2550\n",
      "[3190] loss:3.9854 || sec:6.1947\n",
      "[3200] loss:3.3085 || sec:5.9867\n",
      "[3210] loss:4.2553 || sec:6.0170\n",
      "[3220] loss:4.1563 || sec:6.0774\n",
      "[18] train_loss: 712.9208 || val_loss: 0.0000 || sec:113.0225\n",
      "Epoch 19/50\n",
      "[train]\n"
     ]
    },
    {
     "name": "stderr",
     "output_type": "stream",
     "text": [
      "/home/kist/nimod/pytorch deep learning/2_objectdetection/utils/data_augumentation.py:246: VisibleDeprecationWarning: Creating an ndarray from ragged nested sequences (which is a list-or-tuple of lists-or-tuples-or ndarrays with different lengths or shapes) is deprecated. If you meant to do this, you must specify 'dtype=object' when creating the ndarray.\n",
      "  mode = random.choice(self.sample_options)\n",
      "/home/kist/anaconda3/envs/pytorchDeepLearning/lib/python3.9/site-packages/torch/nn/functional.py:780: UserWarning: Note that order of the arguments: ceil_mode and return_indices will changeto match the args list in nn.MaxPool2d in a future release.\n",
      "  warnings.warn(\"Note that order of the arguments: ceil_mode and return_indices will change\"\n"
     ]
    },
    {
     "name": "stdout",
     "output_type": "stream",
     "text": [
      "[3230] loss:4.2674 || sec:4.9814\n",
      "[3240] loss:4.2225 || sec:6.1186\n",
      "[3250] loss:4.1793 || sec:6.2075\n",
      "[3260] loss:3.9774 || sec:6.1125\n",
      "[3270] loss:4.2881 || sec:6.0832\n",
      "[3280] loss:3.4576 || sec:6.2139\n",
      "[3290] loss:3.9729 || sec:6.3102\n",
      "[3300] loss:4.2008 || sec:6.3241\n",
      "[3310] loss:3.8075 || sec:6.2023\n",
      "[3320] loss:4.3449 || sec:6.1837\n",
      "[3330] loss:4.7105 || sec:6.0211\n",
      "[3340] loss:3.9266 || sec:6.0412\n",
      "[3350] loss:3.9018 || sec:6.1156\n",
      "[3360] loss:4.1778 || sec:6.1857\n",
      "[3370] loss:4.4798 || sec:6.2327\n",
      "[3380] loss:3.7234 || sec:6.1571\n",
      "[3390] loss:4.0099 || sec:6.1445\n",
      "[3400] loss:3.5508 || sec:6.0566\n",
      "[19] train_loss: 710.5124 || val_loss: 0.0000 || sec:112.8616\n",
      "Epoch 20/50\n",
      "[train]\n"
     ]
    },
    {
     "name": "stderr",
     "output_type": "stream",
     "text": [
      "/home/kist/nimod/pytorch deep learning/2_objectdetection/utils/data_augumentation.py:246: VisibleDeprecationWarning: Creating an ndarray from ragged nested sequences (which is a list-or-tuple of lists-or-tuples-or ndarrays with different lengths or shapes) is deprecated. If you meant to do this, you must specify 'dtype=object' when creating the ndarray.\n",
      "  mode = random.choice(self.sample_options)\n",
      "/home/kist/anaconda3/envs/pytorchDeepLearning/lib/python3.9/site-packages/torch/nn/functional.py:780: UserWarning: Note that order of the arguments: ceil_mode and return_indices will changeto match the args list in nn.MaxPool2d in a future release.\n",
      "  warnings.warn(\"Note that order of the arguments: ceil_mode and return_indices will change\"\n"
     ]
    },
    {
     "name": "stdout",
     "output_type": "stream",
     "text": [
      "[3410] loss:4.5506 || sec:5.5393\n",
      "[3420] loss:4.0902 || sec:6.0695\n",
      "[3430] loss:3.6649 || sec:6.0047\n",
      "[3440] loss:3.8083 || sec:6.2152\n",
      "[3450] loss:4.1388 || sec:5.8768\n",
      "[3460] loss:4.1658 || sec:6.1272\n",
      "[3470] loss:3.5457 || sec:6.2650\n",
      "[3480] loss:4.5162 || sec:6.1250\n",
      "[3490] loss:4.0471 || sec:6.1165\n",
      "[3500] loss:3.7614 || sec:6.1325\n",
      "[3510] loss:4.3933 || sec:6.2028\n",
      "[3520] loss:3.9877 || sec:6.0972\n",
      "[3530] loss:4.0675 || sec:5.9228\n",
      "[3540] loss:3.8143 || sec:6.0446\n",
      "[3550] loss:4.1659 || sec:6.2892\n",
      "[3560] loss:4.5035 || sec:6.2023\n",
      "[3570] loss:4.0136 || sec:6.0183\n",
      "[3580] loss:3.6953 || sec:6.0312\n",
      "[val]\n",
      "[20] train_loss: 706.0777 || val_loss: 743.4128 || sec:158.6451\n",
      "Epoch 21/50\n",
      "[train]\n"
     ]
    },
    {
     "name": "stderr",
     "output_type": "stream",
     "text": [
      "/home/kist/nimod/pytorch deep learning/2_objectdetection/utils/data_augumentation.py:246: VisibleDeprecationWarning: Creating an ndarray from ragged nested sequences (which is a list-or-tuple of lists-or-tuples-or ndarrays with different lengths or shapes) is deprecated. If you meant to do this, you must specify 'dtype=object' when creating the ndarray.\n",
      "  mode = random.choice(self.sample_options)\n",
      "/home/kist/anaconda3/envs/pytorchDeepLearning/lib/python3.9/site-packages/torch/nn/functional.py:780: UserWarning: Note that order of the arguments: ceil_mode and return_indices will changeto match the args list in nn.MaxPool2d in a future release.\n",
      "  warnings.warn(\"Note that order of the arguments: ceil_mode and return_indices will change\"\n"
     ]
    },
    {
     "name": "stdout",
     "output_type": "stream",
     "text": [
      "[3590] loss:3.8361 || sec:6.1051\n",
      "[3600] loss:3.9066 || sec:6.2344\n",
      "[3610] loss:4.3398 || sec:6.2215\n",
      "[3620] loss:3.5000 || sec:6.0928\n",
      "[3630] loss:3.9110 || sec:6.0244\n",
      "[3640] loss:3.4253 || sec:6.0233\n",
      "[3650] loss:4.0295 || sec:6.0586\n",
      "[3660] loss:3.8776 || sec:5.8844\n",
      "[3670] loss:4.0334 || sec:6.0790\n",
      "[3680] loss:3.8352 || sec:6.2590\n",
      "[3690] loss:3.7960 || sec:5.9974\n",
      "[3700] loss:3.5333 || sec:6.3408\n",
      "[3710] loss:3.8844 || sec:6.3173\n",
      "[3720] loss:3.9535 || sec:6.3562\n",
      "[3730] loss:3.9809 || sec:6.2313\n",
      "[3740] loss:3.6155 || sec:6.1438\n",
      "[3750] loss:3.3379 || sec:6.1918\n",
      "[21] train_loss: 693.4374 || val_loss: 0.0000 || sec:112.6068\n",
      "Epoch 22/50\n",
      "[train]\n"
     ]
    },
    {
     "name": "stderr",
     "output_type": "stream",
     "text": [
      "/home/kist/nimod/pytorch deep learning/2_objectdetection/utils/data_augumentation.py:246: VisibleDeprecationWarning: Creating an ndarray from ragged nested sequences (which is a list-or-tuple of lists-or-tuples-or ndarrays with different lengths or shapes) is deprecated. If you meant to do this, you must specify 'dtype=object' when creating the ndarray.\n",
      "  mode = random.choice(self.sample_options)\n",
      "/home/kist/anaconda3/envs/pytorchDeepLearning/lib/python3.9/site-packages/torch/nn/functional.py:780: UserWarning: Note that order of the arguments: ceil_mode and return_indices will changeto match the args list in nn.MaxPool2d in a future release.\n",
      "  warnings.warn(\"Note that order of the arguments: ceil_mode and return_indices will change\"\n"
     ]
    },
    {
     "name": "stdout",
     "output_type": "stream",
     "text": [
      "[3760] loss:3.1583 || sec:0.5714\n",
      "[3770] loss:3.9779 || sec:6.1818\n",
      "[3780] loss:3.6204 || sec:6.0513\n",
      "[3790] loss:3.4115 || sec:6.3984\n",
      "[3800] loss:3.5950 || sec:6.1937\n",
      "[3810] loss:4.0126 || sec:6.1208\n",
      "[3820] loss:3.9262 || sec:6.2643\n",
      "[3830] loss:3.6954 || sec:6.1469\n",
      "[3840] loss:3.9972 || sec:6.0513\n",
      "[3850] loss:4.2897 || sec:6.0206\n",
      "[3860] loss:4.0634 || sec:6.1017\n",
      "[3870] loss:4.1545 || sec:6.0276\n",
      "[3880] loss:3.9412 || sec:6.4915\n",
      "[3890] loss:3.8721 || sec:5.8484\n",
      "[3900] loss:3.9076 || sec:5.9648\n",
      "[3910] loss:3.7276 || sec:5.7361\n",
      "[3920] loss:3.8834 || sec:5.9700\n",
      "[3930] loss:4.2031 || sec:5.9756\n",
      "[22] train_loss: 687.7327 || val_loss: 0.0000 || sec:111.6011\n",
      "Epoch 23/50\n",
      "[train]\n"
     ]
    },
    {
     "name": "stderr",
     "output_type": "stream",
     "text": [
      "/home/kist/nimod/pytorch deep learning/2_objectdetection/utils/data_augumentation.py:246: VisibleDeprecationWarning: Creating an ndarray from ragged nested sequences (which is a list-or-tuple of lists-or-tuples-or ndarrays with different lengths or shapes) is deprecated. If you meant to do this, you must specify 'dtype=object' when creating the ndarray.\n",
      "  mode = random.choice(self.sample_options)\n",
      "/home/kist/anaconda3/envs/pytorchDeepLearning/lib/python3.9/site-packages/torch/nn/functional.py:780: UserWarning: Note that order of the arguments: ceil_mode and return_indices will changeto match the args list in nn.MaxPool2d in a future release.\n",
      "  warnings.warn(\"Note that order of the arguments: ceil_mode and return_indices will change\"\n"
     ]
    },
    {
     "name": "stdout",
     "output_type": "stream",
     "text": [
      "[3940] loss:3.2836 || sec:0.9330\n",
      "[3950] loss:4.2342 || sec:5.7734\n",
      "[3960] loss:3.9048 || sec:5.9468\n",
      "[3970] loss:3.4278 || sec:5.8330\n",
      "[3980] loss:3.9519 || sec:6.0070\n",
      "[3990] loss:3.5339 || sec:5.8751\n",
      "[4000] loss:3.7376 || sec:6.0256\n",
      "[4010] loss:3.2759 || sec:5.9075\n",
      "[4020] loss:3.7735 || sec:6.0335\n",
      "[4030] loss:3.8900 || sec:6.0061\n",
      "[4040] loss:3.6806 || sec:5.9129\n",
      "[4050] loss:3.6372 || sec:6.1263\n",
      "[4060] loss:3.3377 || sec:6.0229\n",
      "[4070] loss:4.2244 || sec:6.0616\n",
      "[4080] loss:3.3619 || sec:6.1803\n",
      "[4090] loss:3.7708 || sec:5.9208\n",
      "[4100] loss:3.8193 || sec:5.8016\n",
      "[4110] loss:3.1762 || sec:5.6885\n",
      "[23] train_loss: 677.2175 || val_loss: 0.0000 || sec:108.8641\n",
      "Epoch 24/50\n",
      "[train]\n"
     ]
    },
    {
     "name": "stderr",
     "output_type": "stream",
     "text": [
      "/home/kist/nimod/pytorch deep learning/2_objectdetection/utils/data_augumentation.py:246: VisibleDeprecationWarning: Creating an ndarray from ragged nested sequences (which is a list-or-tuple of lists-or-tuples-or ndarrays with different lengths or shapes) is deprecated. If you meant to do this, you must specify 'dtype=object' when creating the ndarray.\n",
      "  mode = random.choice(self.sample_options)\n",
      "/home/kist/anaconda3/envs/pytorchDeepLearning/lib/python3.9/site-packages/torch/nn/functional.py:780: UserWarning: Note that order of the arguments: ceil_mode and return_indices will changeto match the args list in nn.MaxPool2d in a future release.\n",
      "  warnings.warn(\"Note that order of the arguments: ceil_mode and return_indices will change\"\n"
     ]
    },
    {
     "name": "stdout",
     "output_type": "stream",
     "text": [
      "[4120] loss:3.6112 || sec:1.7150\n",
      "[4130] loss:3.8632 || sec:5.9041\n",
      "[4140] loss:3.4883 || sec:5.7935\n",
      "[4150] loss:3.4468 || sec:5.9695\n",
      "[4160] loss:3.5936 || sec:5.8163\n",
      "[4170] loss:4.1471 || sec:5.8054\n",
      "[4180] loss:3.6249 || sec:5.8712\n",
      "[4190] loss:3.3485 || sec:5.9311\n",
      "[4200] loss:3.5834 || sec:6.0196\n",
      "[4210] loss:3.5558 || sec:6.0084\n",
      "[4220] loss:3.4278 || sec:5.8537\n",
      "[4230] loss:3.4529 || sec:5.8041\n",
      "[4240] loss:3.5473 || sec:6.0138\n",
      "[4250] loss:3.5851 || sec:5.8797\n",
      "[4260] loss:3.5966 || sec:6.0144\n",
      "[4270] loss:3.7298 || sec:6.2642\n",
      "[4280] loss:3.7156 || sec:6.1470\n",
      "[4290] loss:4.2280 || sec:5.9505\n",
      "[24] train_loss: 675.8641 || val_loss: 0.0000 || sec:108.7495\n",
      "Epoch 25/50\n",
      "[train]\n"
     ]
    },
    {
     "name": "stderr",
     "output_type": "stream",
     "text": [
      "/home/kist/nimod/pytorch deep learning/2_objectdetection/utils/data_augumentation.py:246: VisibleDeprecationWarning: Creating an ndarray from ragged nested sequences (which is a list-or-tuple of lists-or-tuples-or ndarrays with different lengths or shapes) is deprecated. If you meant to do this, you must specify 'dtype=object' when creating the ndarray.\n",
      "  mode = random.choice(self.sample_options)\n",
      "/home/kist/anaconda3/envs/pytorchDeepLearning/lib/python3.9/site-packages/torch/nn/functional.py:780: UserWarning: Note that order of the arguments: ceil_mode and return_indices will changeto match the args list in nn.MaxPool2d in a future release.\n",
      "  warnings.warn(\"Note that order of the arguments: ceil_mode and return_indices will change\"\n"
     ]
    },
    {
     "name": "stdout",
     "output_type": "stream",
     "text": [
      "[4300] loss:3.7665 || sec:2.2556\n",
      "[4310] loss:3.6993 || sec:5.8580\n",
      "[4320] loss:4.3261 || sec:5.8528\n",
      "[4330] loss:3.5341 || sec:5.8868\n",
      "[4340] loss:3.1943 || sec:5.9865\n",
      "[4350] loss:3.3410 || sec:5.9769\n",
      "[4360] loss:3.4876 || sec:5.9948\n",
      "[4370] loss:3.5703 || sec:6.1600\n",
      "[4380] loss:3.8881 || sec:5.8305\n",
      "[4390] loss:3.4376 || sec:5.8501\n",
      "[4400] loss:3.7410 || sec:5.9139\n",
      "[4410] loss:3.5460 || sec:5.7924\n",
      "[4420] loss:3.9657 || sec:5.8672\n",
      "[4430] loss:3.8696 || sec:5.8901\n",
      "[4440] loss:3.3448 || sec:5.9912\n",
      "[4450] loss:3.5934 || sec:5.7695\n",
      "[4460] loss:3.6553 || sec:5.7971\n",
      "[4470] loss:4.0755 || sec:5.8619\n",
      "[25] train_loss: 670.1166 || val_loss: 0.0000 || sec:108.1294\n",
      "Epoch 26/50\n",
      "[train]\n"
     ]
    },
    {
     "name": "stderr",
     "output_type": "stream",
     "text": [
      "/home/kist/nimod/pytorch deep learning/2_objectdetection/utils/data_augumentation.py:246: VisibleDeprecationWarning: Creating an ndarray from ragged nested sequences (which is a list-or-tuple of lists-or-tuples-or ndarrays with different lengths or shapes) is deprecated. If you meant to do this, you must specify 'dtype=object' when creating the ndarray.\n",
      "  mode = random.choice(self.sample_options)\n",
      "/home/kist/anaconda3/envs/pytorchDeepLearning/lib/python3.9/site-packages/torch/nn/functional.py:780: UserWarning: Note that order of the arguments: ceil_mode and return_indices will changeto match the args list in nn.MaxPool2d in a future release.\n",
      "  warnings.warn(\"Note that order of the arguments: ceil_mode and return_indices will change\"\n"
     ]
    },
    {
     "name": "stdout",
     "output_type": "stream",
     "text": [
      "[4480] loss:4.0054 || sec:2.9658\n",
      "[4490] loss:3.3613 || sec:6.0134\n",
      "[4500] loss:3.8561 || sec:5.9422\n",
      "[4510] loss:3.9294 || sec:5.8359\n",
      "[4520] loss:3.7108 || sec:5.8976\n",
      "[4530] loss:3.4513 || sec:6.0240\n",
      "[4540] loss:3.9831 || sec:5.9226\n",
      "[4550] loss:3.0757 || sec:5.6716\n",
      "[4560] loss:3.0472 || sec:5.7950\n",
      "[4570] loss:3.7301 || sec:5.7033\n",
      "[4580] loss:3.8416 || sec:5.8973\n",
      "[4590] loss:3.5810 || sec:5.7932\n",
      "[4600] loss:3.6366 || sec:6.0260\n",
      "[4610] loss:3.8456 || sec:6.0201\n",
      "[4620] loss:3.9703 || sec:6.0916\n",
      "[4630] loss:3.7433 || sec:6.2090\n",
      "[4640] loss:3.1019 || sec:5.6632\n",
      "[4650] loss:4.0775 || sec:5.7523\n",
      "[26] train_loss: 666.5692 || val_loss: 0.0000 || sec:108.2376\n",
      "Epoch 27/50\n",
      "[train]\n"
     ]
    },
    {
     "name": "stderr",
     "output_type": "stream",
     "text": [
      "/home/kist/nimod/pytorch deep learning/2_objectdetection/utils/data_augumentation.py:246: VisibleDeprecationWarning: Creating an ndarray from ragged nested sequences (which is a list-or-tuple of lists-or-tuples-or ndarrays with different lengths or shapes) is deprecated. If you meant to do this, you must specify 'dtype=object' when creating the ndarray.\n",
      "  mode = random.choice(self.sample_options)\n",
      "/home/kist/anaconda3/envs/pytorchDeepLearning/lib/python3.9/site-packages/torch/nn/functional.py:780: UserWarning: Note that order of the arguments: ceil_mode and return_indices will changeto match the args list in nn.MaxPool2d in a future release.\n",
      "  warnings.warn(\"Note that order of the arguments: ceil_mode and return_indices will change\"\n"
     ]
    },
    {
     "name": "stdout",
     "output_type": "stream",
     "text": [
      "[4660] loss:3.7780 || sec:3.5238\n",
      "[4670] loss:3.4947 || sec:5.7656\n",
      "[4680] loss:3.0815 || sec:6.1470\n",
      "[4690] loss:3.6862 || sec:6.0141\n",
      "[4700] loss:3.4575 || sec:5.8624\n",
      "[4710] loss:3.5028 || sec:6.0937\n",
      "[4720] loss:3.9620 || sec:5.7194\n",
      "[4730] loss:3.9133 || sec:5.8327\n",
      "[4740] loss:4.3060 || sec:6.1421\n",
      "[4750] loss:3.6015 || sec:6.1156\n",
      "[4760] loss:3.3250 || sec:5.8887\n",
      "[4770] loss:3.5194 || sec:6.0685\n",
      "[4780] loss:3.9974 || sec:6.0902\n",
      "[4790] loss:3.7803 || sec:5.7827\n",
      "[4800] loss:3.7489 || sec:5.9897\n",
      "[4810] loss:3.6428 || sec:5.8611\n",
      "[4820] loss:3.2906 || sec:6.0204\n",
      "[4830] loss:3.8053 || sec:5.9063\n",
      "[27] train_loss: 660.1408 || val_loss: 0.0000 || sec:109.1189\n",
      "Epoch 28/50\n",
      "[train]\n"
     ]
    },
    {
     "name": "stderr",
     "output_type": "stream",
     "text": [
      "/home/kist/nimod/pytorch deep learning/2_objectdetection/utils/data_augumentation.py:246: VisibleDeprecationWarning: Creating an ndarray from ragged nested sequences (which is a list-or-tuple of lists-or-tuples-or ndarrays with different lengths or shapes) is deprecated. If you meant to do this, you must specify 'dtype=object' when creating the ndarray.\n",
      "  mode = random.choice(self.sample_options)\n",
      "/home/kist/anaconda3/envs/pytorchDeepLearning/lib/python3.9/site-packages/torch/nn/functional.py:780: UserWarning: Note that order of the arguments: ceil_mode and return_indices will changeto match the args list in nn.MaxPool2d in a future release.\n",
      "  warnings.warn(\"Note that order of the arguments: ceil_mode and return_indices will change\"\n"
     ]
    },
    {
     "name": "stdout",
     "output_type": "stream",
     "text": [
      "[4840] loss:3.8780 || sec:4.0335\n",
      "[4850] loss:4.0255 || sec:5.8737\n",
      "[4860] loss:2.8770 || sec:5.9193\n",
      "[4870] loss:3.5477 || sec:5.7724\n",
      "[4880] loss:3.6714 || sec:5.9836\n",
      "[4890] loss:3.4084 || sec:5.8936\n",
      "[4900] loss:4.1267 || sec:5.8384\n",
      "[4910] loss:4.2615 || sec:5.9061\n",
      "[4920] loss:3.3769 || sec:5.9036\n",
      "[4930] loss:3.7278 || sec:5.9728\n",
      "[4940] loss:3.4830 || sec:6.1108\n",
      "[4950] loss:3.9573 || sec:5.8910\n",
      "[4960] loss:3.5340 || sec:5.9780\n",
      "[4970] loss:3.6330 || sec:5.8643\n",
      "[4980] loss:4.0707 || sec:6.0272\n",
      "[4990] loss:3.4727 || sec:5.8408\n",
      "[5000] loss:3.2511 || sec:5.9548\n",
      "[5010] loss:3.3362 || sec:6.4219\n",
      "[28] train_loss: 659.1669 || val_loss: 0.0000 || sec:108.8221\n",
      "Epoch 29/50\n",
      "[train]\n"
     ]
    },
    {
     "name": "stderr",
     "output_type": "stream",
     "text": [
      "/home/kist/nimod/pytorch deep learning/2_objectdetection/utils/data_augumentation.py:246: VisibleDeprecationWarning: Creating an ndarray from ragged nested sequences (which is a list-or-tuple of lists-or-tuples-or ndarrays with different lengths or shapes) is deprecated. If you meant to do this, you must specify 'dtype=object' when creating the ndarray.\n",
      "  mode = random.choice(self.sample_options)\n",
      "/home/kist/anaconda3/envs/pytorchDeepLearning/lib/python3.9/site-packages/torch/nn/functional.py:780: UserWarning: Note that order of the arguments: ceil_mode and return_indices will changeto match the args list in nn.MaxPool2d in a future release.\n",
      "  warnings.warn(\"Note that order of the arguments: ceil_mode and return_indices will change\"\n"
     ]
    },
    {
     "name": "stdout",
     "output_type": "stream",
     "text": [
      "[5020] loss:3.9840 || sec:4.7596\n",
      "[5030] loss:3.0265 || sec:5.7884\n",
      "[5040] loss:3.5255 || sec:6.0337\n",
      "[5050] loss:3.4324 || sec:5.9007\n",
      "[5060] loss:3.3810 || sec:6.0032\n",
      "[5070] loss:3.6205 || sec:5.6633\n",
      "[5080] loss:3.3310 || sec:5.7383\n",
      "[5090] loss:3.4428 || sec:6.4986\n",
      "[5100] loss:3.3617 || sec:6.4038\n",
      "[5110] loss:3.5247 || sec:6.0524\n",
      "[5120] loss:3.9609 || sec:6.1065\n",
      "[5130] loss:3.5567 || sec:6.1426\n",
      "[5140] loss:3.2195 || sec:6.0781\n",
      "[5150] loss:3.5579 || sec:6.0755\n",
      "[5160] loss:4.0561 || sec:6.0104\n",
      "[5170] loss:4.2300 || sec:5.9850\n",
      "[5180] loss:3.9366 || sec:6.1104\n",
      "[5190] loss:3.5054 || sec:5.8243\n",
      "[29] train_loss: 651.5561 || val_loss: 0.0000 || sec:110.2040\n",
      "Epoch 30/50\n",
      "[train]\n"
     ]
    },
    {
     "name": "stderr",
     "output_type": "stream",
     "text": [
      "/home/kist/nimod/pytorch deep learning/2_objectdetection/utils/data_augumentation.py:246: VisibleDeprecationWarning: Creating an ndarray from ragged nested sequences (which is a list-or-tuple of lists-or-tuples-or ndarrays with different lengths or shapes) is deprecated. If you meant to do this, you must specify 'dtype=object' when creating the ndarray.\n",
      "  mode = random.choice(self.sample_options)\n",
      "/home/kist/anaconda3/envs/pytorchDeepLearning/lib/python3.9/site-packages/torch/nn/functional.py:780: UserWarning: Note that order of the arguments: ceil_mode and return_indices will changeto match the args list in nn.MaxPool2d in a future release.\n",
      "  warnings.warn(\"Note that order of the arguments: ceil_mode and return_indices will change\"\n"
     ]
    },
    {
     "name": "stdout",
     "output_type": "stream",
     "text": [
      "[5200] loss:3.6832 || sec:5.2558\n",
      "[5210] loss:3.6589 || sec:5.9618\n",
      "[5220] loss:3.8352 || sec:5.7312\n",
      "[5230] loss:3.6832 || sec:5.9380\n",
      "[5240] loss:3.5509 || sec:5.9473\n",
      "[5250] loss:3.5958 || sec:6.0311\n",
      "[5260] loss:3.3873 || sec:6.0417\n",
      "[5270] loss:3.5290 || sec:6.0791\n",
      "[5280] loss:3.7708 || sec:5.8950\n",
      "[5290] loss:3.8149 || sec:6.0673\n",
      "[5300] loss:3.3903 || sec:5.9548\n",
      "[5310] loss:3.9459 || sec:5.7447\n",
      "[5320] loss:3.7062 || sec:5.8021\n",
      "[5330] loss:3.8019 || sec:5.7643\n",
      "[5340] loss:3.1589 || sec:6.0195\n",
      "[5350] loss:3.5851 || sec:6.0311\n",
      "[5360] loss:3.6373 || sec:6.0033\n",
      "[5370] loss:3.7854 || sec:5.6044\n",
      "[val]\n",
      "[30] train_loss: 646.1965 || val_loss: 700.7894 || sec:153.5057\n",
      "Epoch 31/50\n",
      "[train]\n"
     ]
    },
    {
     "name": "stderr",
     "output_type": "stream",
     "text": [
      "/home/kist/nimod/pytorch deep learning/2_objectdetection/utils/data_augumentation.py:246: VisibleDeprecationWarning: Creating an ndarray from ragged nested sequences (which is a list-or-tuple of lists-or-tuples-or ndarrays with different lengths or shapes) is deprecated. If you meant to do this, you must specify 'dtype=object' when creating the ndarray.\n",
      "  mode = random.choice(self.sample_options)\n",
      "/home/kist/anaconda3/envs/pytorchDeepLearning/lib/python3.9/site-packages/torch/nn/functional.py:780: UserWarning: Note that order of the arguments: ceil_mode and return_indices will changeto match the args list in nn.MaxPool2d in a future release.\n",
      "  warnings.warn(\"Note that order of the arguments: ceil_mode and return_indices will change\"\n"
     ]
    },
    {
     "name": "stdout",
     "output_type": "stream",
     "text": [
      "[5380] loss:3.5261 || sec:5.8388\n",
      "[5390] loss:3.2088 || sec:5.9392\n",
      "[5400] loss:3.9151 || sec:5.8982\n",
      "[5410] loss:3.0746 || sec:5.9096\n",
      "[5420] loss:4.0101 || sec:5.9343\n",
      "[5430] loss:3.3272 || sec:5.9369\n",
      "[5440] loss:3.4695 || sec:5.9820\n",
      "[5450] loss:3.4719 || sec:5.9874\n",
      "[5460] loss:3.2148 || sec:5.9826\n",
      "[5470] loss:3.5129 || sec:6.0863\n",
      "[5480] loss:3.6175 || sec:6.0773\n",
      "[5490] loss:3.2089 || sec:6.1010\n",
      "[5500] loss:3.8130 || sec:6.1140\n",
      "[5510] loss:3.6926 || sec:5.9199\n",
      "[5520] loss:3.6273 || sec:6.0368\n",
      "[5530] loss:3.2250 || sec:5.9572\n",
      "[5540] loss:3.4351 || sec:6.0549\n",
      "[31] train_loss: 640.5801 || val_loss: 0.0000 || sec:109.3521\n",
      "Epoch 32/50\n",
      "[train]\n"
     ]
    },
    {
     "name": "stderr",
     "output_type": "stream",
     "text": [
      "/home/kist/nimod/pytorch deep learning/2_objectdetection/utils/data_augumentation.py:246: VisibleDeprecationWarning: Creating an ndarray from ragged nested sequences (which is a list-or-tuple of lists-or-tuples-or ndarrays with different lengths or shapes) is deprecated. If you meant to do this, you must specify 'dtype=object' when creating the ndarray.\n",
      "  mode = random.choice(self.sample_options)\n",
      "/home/kist/anaconda3/envs/pytorchDeepLearning/lib/python3.9/site-packages/torch/nn/functional.py:780: UserWarning: Note that order of the arguments: ceil_mode and return_indices will changeto match the args list in nn.MaxPool2d in a future release.\n",
      "  warnings.warn(\"Note that order of the arguments: ceil_mode and return_indices will change\"\n"
     ]
    },
    {
     "name": "stdout",
     "output_type": "stream",
     "text": [
      "[5550] loss:3.6376 || sec:0.5066\n",
      "[5560] loss:3.5514 || sec:6.0007\n",
      "[5570] loss:3.9838 || sec:6.1628\n",
      "[5580] loss:3.5935 || sec:6.0412\n",
      "[5590] loss:3.6877 || sec:6.0437\n",
      "[5600] loss:4.2756 || sec:6.1941\n",
      "[5610] loss:3.1240 || sec:5.8267\n",
      "[5620] loss:3.3241 || sec:5.9490\n",
      "[5630] loss:3.7484 || sec:5.6557\n",
      "[5640] loss:3.6060 || sec:5.9524\n",
      "[5650] loss:3.5893 || sec:5.9776\n",
      "[5660] loss:3.4478 || sec:6.0857\n",
      "[5670] loss:3.5847 || sec:5.9807\n",
      "[5680] loss:3.8055 || sec:6.0025\n",
      "[5690] loss:3.5639 || sec:6.0181\n",
      "[5700] loss:3.3584 || sec:5.7559\n",
      "[5710] loss:3.7208 || sec:6.0367\n",
      "[5720] loss:3.7532 || sec:5.8971\n",
      "[32] train_loss: 637.2032 || val_loss: 0.0000 || sec:109.3558\n",
      "Epoch 33/50\n",
      "[train]\n"
     ]
    },
    {
     "name": "stderr",
     "output_type": "stream",
     "text": [
      "/home/kist/nimod/pytorch deep learning/2_objectdetection/utils/data_augumentation.py:246: VisibleDeprecationWarning: Creating an ndarray from ragged nested sequences (which is a list-or-tuple of lists-or-tuples-or ndarrays with different lengths or shapes) is deprecated. If you meant to do this, you must specify 'dtype=object' when creating the ndarray.\n",
      "  mode = random.choice(self.sample_options)\n",
      "/home/kist/anaconda3/envs/pytorchDeepLearning/lib/python3.9/site-packages/torch/nn/functional.py:780: UserWarning: Note that order of the arguments: ceil_mode and return_indices will changeto match the args list in nn.MaxPool2d in a future release.\n",
      "  warnings.warn(\"Note that order of the arguments: ceil_mode and return_indices will change\"\n"
     ]
    },
    {
     "name": "stdout",
     "output_type": "stream",
     "text": [
      "[5730] loss:3.7602 || sec:1.1608\n",
      "[5740] loss:3.1476 || sec:6.0385\n",
      "[5750] loss:2.8593 || sec:5.9126\n",
      "[5760] loss:3.9561 || sec:6.2099\n",
      "[5770] loss:3.4977 || sec:6.3614\n",
      "[5780] loss:3.4778 || sec:6.2243\n",
      "[5790] loss:3.9480 || sec:6.1228\n",
      "[5800] loss:3.6167 || sec:6.0220\n",
      "[5810] loss:3.3029 || sec:6.3663\n",
      "[5820] loss:3.0553 || sec:6.0670\n",
      "[5830] loss:3.5154 || sec:6.3100\n",
      "[5840] loss:3.7238 || sec:6.2180\n",
      "[5850] loss:3.7346 || sec:6.3964\n",
      "[5860] loss:3.7246 || sec:6.2971\n",
      "[5870] loss:4.0666 || sec:6.2541\n",
      "[5880] loss:3.1163 || sec:5.9648\n",
      "[5890] loss:3.3961 || sec:6.5211\n",
      "[5900] loss:3.4354 || sec:6.0840\n",
      "[33] train_loss: 632.1149 || val_loss: 0.0000 || sec:113.4061\n",
      "Epoch 34/50\n",
      "[train]\n"
     ]
    },
    {
     "name": "stderr",
     "output_type": "stream",
     "text": [
      "/home/kist/nimod/pytorch deep learning/2_objectdetection/utils/data_augumentation.py:246: VisibleDeprecationWarning: Creating an ndarray from ragged nested sequences (which is a list-or-tuple of lists-or-tuples-or ndarrays with different lengths or shapes) is deprecated. If you meant to do this, you must specify 'dtype=object' when creating the ndarray.\n",
      "  mode = random.choice(self.sample_options)\n",
      "/home/kist/anaconda3/envs/pytorchDeepLearning/lib/python3.9/site-packages/torch/nn/functional.py:780: UserWarning: Note that order of the arguments: ceil_mode and return_indices will changeto match the args list in nn.MaxPool2d in a future release.\n",
      "  warnings.warn(\"Note that order of the arguments: ceil_mode and return_indices will change\"\n"
     ]
    },
    {
     "name": "stdout",
     "output_type": "stream",
     "text": [
      "[5910] loss:4.1782 || sec:1.8395\n",
      "[5920] loss:3.7387 || sec:6.4783\n",
      "[5930] loss:3.3793 || sec:6.0364\n",
      "[5940] loss:2.8822 || sec:6.1510\n",
      "[5950] loss:3.5450 || sec:6.1261\n",
      "[5960] loss:3.5127 || sec:6.3461\n",
      "[5970] loss:3.7340 || sec:6.5466\n",
      "[5980] loss:3.3525 || sec:6.1769\n",
      "[5990] loss:3.5783 || sec:6.3688\n",
      "[6000] loss:3.7625 || sec:6.4787\n",
      "[6010] loss:3.0051 || sec:5.9586\n",
      "[6020] loss:3.8491 || sec:6.1780\n",
      "[6030] loss:3.8564 || sec:6.2741\n",
      "[6040] loss:3.0813 || sec:6.1151\n",
      "[6050] loss:3.4396 || sec:6.2557\n",
      "[6060] loss:3.7153 || sec:6.0315\n",
      "[6070] loss:3.7448 || sec:6.4266\n",
      "[6080] loss:3.2077 || sec:6.2821\n",
      "[34] train_loss: 631.1982 || val_loss: 0.0000 || sec:114.2834\n",
      "Epoch 35/50\n",
      "[train]\n"
     ]
    },
    {
     "name": "stderr",
     "output_type": "stream",
     "text": [
      "/home/kist/nimod/pytorch deep learning/2_objectdetection/utils/data_augumentation.py:246: VisibleDeprecationWarning: Creating an ndarray from ragged nested sequences (which is a list-or-tuple of lists-or-tuples-or ndarrays with different lengths or shapes) is deprecated. If you meant to do this, you must specify 'dtype=object' when creating the ndarray.\n",
      "  mode = random.choice(self.sample_options)\n",
      "/home/kist/anaconda3/envs/pytorchDeepLearning/lib/python3.9/site-packages/torch/nn/functional.py:780: UserWarning: Note that order of the arguments: ceil_mode and return_indices will changeto match the args list in nn.MaxPool2d in a future release.\n",
      "  warnings.warn(\"Note that order of the arguments: ceil_mode and return_indices will change\"\n"
     ]
    },
    {
     "name": "stdout",
     "output_type": "stream",
     "text": [
      "[6090] loss:3.5127 || sec:2.2288\n",
      "[6100] loss:3.1969 || sec:6.2309\n",
      "[6110] loss:3.2067 || sec:6.3521\n",
      "[6120] loss:3.9659 || sec:6.2774\n",
      "[6130] loss:3.2653 || sec:6.1489\n",
      "[6140] loss:3.8043 || sec:6.1843\n",
      "[6150] loss:3.6095 || sec:6.5391\n",
      "[6160] loss:3.1094 || sec:6.1860\n",
      "[6170] loss:2.8024 || sec:6.2038\n",
      "[6180] loss:3.5885 || sec:6.2597\n",
      "[6190] loss:3.6916 || sec:6.4237\n",
      "[6200] loss:3.5139 || sec:6.1189\n",
      "[6210] loss:3.6576 || sec:6.1444\n",
      "[6220] loss:4.3852 || sec:6.3238\n",
      "[6230] loss:3.3223 || sec:6.2139\n",
      "[6240] loss:3.5597 || sec:6.0644\n",
      "[6250] loss:3.0302 || sec:6.1823\n",
      "[6260] loss:3.4152 || sec:6.0082\n",
      "[35] train_loss: 624.9243 || val_loss: 0.0000 || sec:113.8199\n",
      "Epoch 36/50\n",
      "[train]\n"
     ]
    },
    {
     "name": "stderr",
     "output_type": "stream",
     "text": [
      "/home/kist/nimod/pytorch deep learning/2_objectdetection/utils/data_augumentation.py:246: VisibleDeprecationWarning: Creating an ndarray from ragged nested sequences (which is a list-or-tuple of lists-or-tuples-or ndarrays with different lengths or shapes) is deprecated. If you meant to do this, you must specify 'dtype=object' when creating the ndarray.\n",
      "  mode = random.choice(self.sample_options)\n",
      "/home/kist/anaconda3/envs/pytorchDeepLearning/lib/python3.9/site-packages/torch/nn/functional.py:780: UserWarning: Note that order of the arguments: ceil_mode and return_indices will changeto match the args list in nn.MaxPool2d in a future release.\n",
      "  warnings.warn(\"Note that order of the arguments: ceil_mode and return_indices will change\"\n"
     ]
    },
    {
     "name": "stdout",
     "output_type": "stream",
     "text": [
      "[6270] loss:3.6712 || sec:3.1513\n",
      "[6280] loss:3.5460 || sec:5.8463\n",
      "[6290] loss:3.3532 || sec:6.3517\n",
      "[6300] loss:4.2417 || sec:6.7587\n",
      "[6310] loss:2.7094 || sec:6.9664\n",
      "[6320] loss:3.4671 || sec:6.4582\n",
      "[6330] loss:3.0605 || sec:6.2017\n",
      "[6340] loss:4.0019 || sec:6.1443\n",
      "[6350] loss:3.5318 || sec:6.3011\n",
      "[6360] loss:3.2036 || sec:6.0721\n",
      "[6370] loss:3.2780 || sec:6.1546\n",
      "[6380] loss:3.6869 || sec:6.6758\n",
      "[6390] loss:3.7022 || sec:6.4775\n",
      "[6400] loss:3.6170 || sec:6.3903\n",
      "[6410] loss:3.3640 || sec:6.4319\n",
      "[6420] loss:3.5204 || sec:6.2490\n",
      "[6430] loss:3.2951 || sec:6.5115\n",
      "[6440] loss:3.2781 || sec:6.1471\n",
      "[36] train_loss: 612.9385 || val_loss: 0.0000 || sec:116.4053\n",
      "Epoch 37/50\n",
      "[train]\n"
     ]
    },
    {
     "name": "stderr",
     "output_type": "stream",
     "text": [
      "/home/kist/nimod/pytorch deep learning/2_objectdetection/utils/data_augumentation.py:246: VisibleDeprecationWarning: Creating an ndarray from ragged nested sequences (which is a list-or-tuple of lists-or-tuples-or ndarrays with different lengths or shapes) is deprecated. If you meant to do this, you must specify 'dtype=object' when creating the ndarray.\n",
      "  mode = random.choice(self.sample_options)\n",
      "/home/kist/anaconda3/envs/pytorchDeepLearning/lib/python3.9/site-packages/torch/nn/functional.py:780: UserWarning: Note that order of the arguments: ceil_mode and return_indices will changeto match the args list in nn.MaxPool2d in a future release.\n",
      "  warnings.warn(\"Note that order of the arguments: ceil_mode and return_indices will change\"\n"
     ]
    },
    {
     "name": "stdout",
     "output_type": "stream",
     "text": [
      "[6450] loss:3.2529 || sec:3.5168\n",
      "[6460] loss:3.3789 || sec:6.2598\n",
      "[6470] loss:3.2729 || sec:6.2219\n",
      "[6480] loss:3.7459 || sec:6.2389\n",
      "[6490] loss:3.4204 || sec:6.1295\n",
      "[6500] loss:3.1639 || sec:6.3545\n",
      "[6510] loss:4.0375 || sec:6.5267\n",
      "[6520] loss:3.5223 || sec:6.5015\n",
      "[6530] loss:3.4340 || sec:6.4755\n",
      "[6540] loss:3.6599 || sec:6.4311\n",
      "[6550] loss:2.9502 || sec:6.6282\n",
      "[6560] loss:3.3756 || sec:6.3747\n",
      "[6570] loss:3.4997 || sec:6.4629\n",
      "[6580] loss:4.1615 || sec:6.4392\n",
      "[6590] loss:3.4997 || sec:6.0251\n",
      "[6600] loss:3.2131 || sec:6.6481\n",
      "[6610] loss:3.3611 || sec:6.5257\n",
      "[6620] loss:3.6759 || sec:6.0471\n",
      "[37] train_loss: 615.1803 || val_loss: 0.0000 || sec:116.0833\n",
      "Epoch 38/50\n",
      "[train]\n"
     ]
    },
    {
     "name": "stderr",
     "output_type": "stream",
     "text": [
      "/home/kist/nimod/pytorch deep learning/2_objectdetection/utils/data_augumentation.py:246: VisibleDeprecationWarning: Creating an ndarray from ragged nested sequences (which is a list-or-tuple of lists-or-tuples-or ndarrays with different lengths or shapes) is deprecated. If you meant to do this, you must specify 'dtype=object' when creating the ndarray.\n",
      "  mode = random.choice(self.sample_options)\n",
      "/home/kist/anaconda3/envs/pytorchDeepLearning/lib/python3.9/site-packages/torch/nn/functional.py:780: UserWarning: Note that order of the arguments: ceil_mode and return_indices will changeto match the args list in nn.MaxPool2d in a future release.\n",
      "  warnings.warn(\"Note that order of the arguments: ceil_mode and return_indices will change\"\n"
     ]
    },
    {
     "name": "stdout",
     "output_type": "stream",
     "text": [
      "[6630] loss:3.7183 || sec:4.1415\n",
      "[6640] loss:3.7962 || sec:6.2070\n",
      "[6650] loss:3.3605 || sec:6.3596\n",
      "[6660] loss:3.1282 || sec:6.3451\n",
      "[6670] loss:3.2951 || sec:6.2437\n",
      "[6680] loss:3.2305 || sec:6.2826\n",
      "[6690] loss:3.8080 || sec:6.3318\n",
      "[6700] loss:3.6483 || sec:6.3330\n",
      "[6710] loss:3.3078 || sec:6.2817\n",
      "[6720] loss:2.9540 || sec:6.3822\n",
      "[6730] loss:3.3946 || sec:6.4849\n",
      "[6740] loss:3.5488 || sec:6.2767\n",
      "[6750] loss:2.8662 || sec:6.1188\n",
      "[6760] loss:3.5467 || sec:6.1275\n",
      "[6770] loss:3.4576 || sec:6.2579\n",
      "[6780] loss:3.2246 || sec:6.2703\n",
      "[6790] loss:3.1682 || sec:6.1477\n",
      "[6800] loss:4.0903 || sec:6.0772\n",
      "[38] train_loss: 612.3004 || val_loss: 0.0000 || sec:114.4761\n",
      "Epoch 39/50\n",
      "[train]\n"
     ]
    },
    {
     "name": "stderr",
     "output_type": "stream",
     "text": [
      "/home/kist/nimod/pytorch deep learning/2_objectdetection/utils/data_augumentation.py:246: VisibleDeprecationWarning: Creating an ndarray from ragged nested sequences (which is a list-or-tuple of lists-or-tuples-or ndarrays with different lengths or shapes) is deprecated. If you meant to do this, you must specify 'dtype=object' when creating the ndarray.\n",
      "  mode = random.choice(self.sample_options)\n",
      "/home/kist/anaconda3/envs/pytorchDeepLearning/lib/python3.9/site-packages/torch/nn/functional.py:780: UserWarning: Note that order of the arguments: ceil_mode and return_indices will changeto match the args list in nn.MaxPool2d in a future release.\n",
      "  warnings.warn(\"Note that order of the arguments: ceil_mode and return_indices will change\"\n"
     ]
    },
    {
     "name": "stdout",
     "output_type": "stream",
     "text": [
      "[6810] loss:3.8409 || sec:4.8820\n",
      "[6820] loss:3.3876 || sec:6.2277\n",
      "[6830] loss:3.4477 || sec:6.3275\n",
      "[6840] loss:3.3353 || sec:6.3746\n",
      "[6850] loss:3.2406 || sec:6.4388\n",
      "[6860] loss:3.3430 || sec:6.2757\n",
      "[6870] loss:3.0315 || sec:6.2953\n",
      "[6880] loss:3.0288 || sec:6.1718\n",
      "[6890] loss:3.6786 || sec:6.4726\n",
      "[6900] loss:4.1183 || sec:6.2938\n",
      "[6910] loss:3.8726 || sec:6.0469\n",
      "[6920] loss:3.8498 || sec:6.2047\n",
      "[6930] loss:3.7165 || sec:6.3171\n",
      "[6940] loss:3.1899 || sec:6.3622\n",
      "[6950] loss:3.5840 || sec:6.3940\n",
      "[6960] loss:3.3383 || sec:6.5402\n",
      "[6970] loss:2.9480 || sec:6.2711\n",
      "[6980] loss:3.4503 || sec:6.2377\n",
      "[39] train_loss: 602.3168 || val_loss: 0.0000 || sec:115.3565\n",
      "Epoch 40/50\n",
      "[train]\n"
     ]
    },
    {
     "name": "stderr",
     "output_type": "stream",
     "text": [
      "/home/kist/nimod/pytorch deep learning/2_objectdetection/utils/data_augumentation.py:246: VisibleDeprecationWarning: Creating an ndarray from ragged nested sequences (which is a list-or-tuple of lists-or-tuples-or ndarrays with different lengths or shapes) is deprecated. If you meant to do this, you must specify 'dtype=object' when creating the ndarray.\n",
      "  mode = random.choice(self.sample_options)\n",
      "/home/kist/anaconda3/envs/pytorchDeepLearning/lib/python3.9/site-packages/torch/nn/functional.py:780: UserWarning: Note that order of the arguments: ceil_mode and return_indices will changeto match the args list in nn.MaxPool2d in a future release.\n",
      "  warnings.warn(\"Note that order of the arguments: ceil_mode and return_indices will change\"\n"
     ]
    },
    {
     "name": "stdout",
     "output_type": "stream",
     "text": [
      "[6990] loss:3.4205 || sec:5.8467\n",
      "[7000] loss:3.4284 || sec:6.5279\n",
      "[7010] loss:3.4279 || sec:6.3176\n",
      "[7020] loss:3.3373 || sec:6.0757\n",
      "[7030] loss:3.5640 || sec:6.0849\n",
      "[7040] loss:3.3694 || sec:5.8921\n",
      "[7050] loss:3.0114 || sec:6.1773\n",
      "[7060] loss:2.6717 || sec:6.3618\n",
      "[7070] loss:3.4793 || sec:6.1069\n",
      "[7080] loss:3.2251 || sec:6.1534\n",
      "[7090] loss:3.1603 || sec:6.5770\n",
      "[7100] loss:3.7801 || sec:6.2544\n",
      "[7110] loss:2.9620 || sec:6.3579\n",
      "[7120] loss:2.6954 || sec:6.2576\n",
      "[7130] loss:3.3421 || sec:6.3678\n",
      "[7140] loss:3.4873 || sec:6.2235\n",
      "[7150] loss:3.5865 || sec:6.3318\n",
      "[7160] loss:3.5012 || sec:6.1753\n",
      "[val]\n",
      "[40] train_loss: 601.3619 || val_loss: 686.8043 || sec:162.0808\n",
      "Epoch 41/50\n",
      "[train]\n"
     ]
    },
    {
     "name": "stderr",
     "output_type": "stream",
     "text": [
      "/home/kist/nimod/pytorch deep learning/2_objectdetection/utils/data_augumentation.py:246: VisibleDeprecationWarning: Creating an ndarray from ragged nested sequences (which is a list-or-tuple of lists-or-tuples-or ndarrays with different lengths or shapes) is deprecated. If you meant to do this, you must specify 'dtype=object' when creating the ndarray.\n",
      "  mode = random.choice(self.sample_options)\n",
      "/home/kist/anaconda3/envs/pytorchDeepLearning/lib/python3.9/site-packages/torch/nn/functional.py:780: UserWarning: Note that order of the arguments: ceil_mode and return_indices will changeto match the args list in nn.MaxPool2d in a future release.\n",
      "  warnings.warn(\"Note that order of the arguments: ceil_mode and return_indices will change\"\n"
     ]
    },
    {
     "name": "stdout",
     "output_type": "stream",
     "text": [
      "[7170] loss:3.6794 || sec:6.2494\n",
      "[7180] loss:3.7800 || sec:6.0889\n",
      "[7190] loss:3.7554 || sec:6.1679\n",
      "[7200] loss:3.3956 || sec:6.0677\n",
      "[7210] loss:3.2065 || sec:6.0722\n",
      "[7220] loss:2.9262 || sec:6.1922\n",
      "[7230] loss:3.3430 || sec:6.1828\n",
      "[7240] loss:2.9541 || sec:6.2483\n",
      "[7250] loss:2.9664 || sec:6.2155\n",
      "[7260] loss:3.4514 || sec:6.1135\n",
      "[7270] loss:2.5150 || sec:6.0526\n",
      "[7280] loss:3.8054 || sec:5.9446\n",
      "[7290] loss:3.1790 || sec:6.2212\n",
      "[7300] loss:3.2902 || sec:6.2777\n",
      "[7310] loss:2.9441 || sec:6.1017\n",
      "[7320] loss:3.3383 || sec:6.0260\n",
      "[7330] loss:3.9389 || sec:5.9533\n",
      "[41] train_loss: 595.7712 || val_loss: 0.0000 || sec:112.2028\n",
      "Epoch 42/50\n",
      "[train]\n"
     ]
    },
    {
     "name": "stderr",
     "output_type": "stream",
     "text": [
      "/home/kist/nimod/pytorch deep learning/2_objectdetection/utils/data_augumentation.py:246: VisibleDeprecationWarning: Creating an ndarray from ragged nested sequences (which is a list-or-tuple of lists-or-tuples-or ndarrays with different lengths or shapes) is deprecated. If you meant to do this, you must specify 'dtype=object' when creating the ndarray.\n",
      "  mode = random.choice(self.sample_options)\n",
      "/home/kist/anaconda3/envs/pytorchDeepLearning/lib/python3.9/site-packages/torch/nn/functional.py:780: UserWarning: Note that order of the arguments: ceil_mode and return_indices will changeto match the args list in nn.MaxPool2d in a future release.\n",
      "  warnings.warn(\"Note that order of the arguments: ceil_mode and return_indices will change\"\n"
     ]
    },
    {
     "name": "stdout",
     "output_type": "stream",
     "text": [
      "[7340] loss:2.9714 || sec:0.4986\n",
      "[7350] loss:3.8060 || sec:6.1036\n",
      "[7360] loss:2.9655 || sec:6.2440\n",
      "[7370] loss:3.3867 || sec:6.0363\n",
      "[7380] loss:3.4260 || sec:6.1325\n",
      "[7390] loss:3.1805 || sec:6.1872\n",
      "[7400] loss:3.6357 || sec:6.2524\n",
      "[7410] loss:3.2197 || sec:6.4591\n",
      "[7420] loss:3.6287 || sec:6.4532\n",
      "[7430] loss:3.7294 || sec:6.6709\n",
      "[7440] loss:3.0217 || sec:6.2014\n",
      "[7450] loss:3.0983 || sec:6.3227\n",
      "[7460] loss:3.7043 || sec:6.2303\n",
      "[7470] loss:3.3984 || sec:6.4103\n",
      "[7480] loss:3.7030 || sec:6.2418\n",
      "[7490] loss:3.1547 || sec:6.1430\n",
      "[7500] loss:3.1680 || sec:6.3776\n",
      "[7510] loss:3.4787 || sec:6.1522\n",
      "[42] train_loss: 592.5615 || val_loss: 0.0000 || sec:114.5280\n",
      "Epoch 43/50\n",
      "[train]\n"
     ]
    },
    {
     "name": "stderr",
     "output_type": "stream",
     "text": [
      "/home/kist/nimod/pytorch deep learning/2_objectdetection/utils/data_augumentation.py:246: VisibleDeprecationWarning: Creating an ndarray from ragged nested sequences (which is a list-or-tuple of lists-or-tuples-or ndarrays with different lengths or shapes) is deprecated. If you meant to do this, you must specify 'dtype=object' when creating the ndarray.\n",
      "  mode = random.choice(self.sample_options)\n",
      "/home/kist/anaconda3/envs/pytorchDeepLearning/lib/python3.9/site-packages/torch/nn/functional.py:780: UserWarning: Note that order of the arguments: ceil_mode and return_indices will changeto match the args list in nn.MaxPool2d in a future release.\n",
      "  warnings.warn(\"Note that order of the arguments: ceil_mode and return_indices will change\"\n"
     ]
    },
    {
     "name": "stdout",
     "output_type": "stream",
     "text": [
      "[7520] loss:3.5927 || sec:1.0561\n",
      "[7530] loss:3.3779 || sec:6.0310\n",
      "[7540] loss:3.2883 || sec:6.3778\n",
      "[7550] loss:3.0911 || sec:6.6539\n",
      "[7560] loss:3.7530 || sec:6.3279\n",
      "[7570] loss:3.0948 || sec:6.0078\n",
      "[7580] loss:2.7577 || sec:6.3180\n",
      "[7590] loss:3.6387 || sec:6.5205\n",
      "[7600] loss:3.5610 || sec:6.3134\n",
      "[7610] loss:3.3036 || sec:6.5944\n",
      "[7620] loss:2.9058 || sec:6.3717\n",
      "[7630] loss:3.6431 || sec:6.6086\n",
      "[7640] loss:3.9592 || sec:6.3659\n",
      "[7650] loss:2.8860 || sec:6.7703\n",
      "[7660] loss:4.0912 || sec:6.4752\n",
      "[7670] loss:3.3786 || sec:6.4896\n",
      "[7680] loss:2.8675 || sec:6.5256\n",
      "[7690] loss:3.1219 || sec:6.0868\n",
      "[43] train_loss: 596.1586 || val_loss: 0.0000 || sec:117.1628\n",
      "Epoch 44/50\n",
      "[train]\n"
     ]
    },
    {
     "name": "stderr",
     "output_type": "stream",
     "text": [
      "/home/kist/nimod/pytorch deep learning/2_objectdetection/utils/data_augumentation.py:246: VisibleDeprecationWarning: Creating an ndarray from ragged nested sequences (which is a list-or-tuple of lists-or-tuples-or ndarrays with different lengths or shapes) is deprecated. If you meant to do this, you must specify 'dtype=object' when creating the ndarray.\n",
      "  mode = random.choice(self.sample_options)\n",
      "/home/kist/anaconda3/envs/pytorchDeepLearning/lib/python3.9/site-packages/torch/nn/functional.py:780: UserWarning: Note that order of the arguments: ceil_mode and return_indices will changeto match the args list in nn.MaxPool2d in a future release.\n",
      "  warnings.warn(\"Note that order of the arguments: ceil_mode and return_indices will change\"\n"
     ]
    },
    {
     "name": "stdout",
     "output_type": "stream",
     "text": [
      "[7700] loss:3.3419 || sec:1.7132\n",
      "[7710] loss:3.4564 || sec:6.4009\n",
      "[7720] loss:2.8489 || sec:6.5195\n",
      "[7730] loss:3.5245 || sec:6.2548\n",
      "[7740] loss:3.5960 || sec:6.3114\n",
      "[7750] loss:3.1761 || sec:6.3390\n",
      "[7760] loss:3.2577 || sec:6.1798\n",
      "[7770] loss:3.4292 || sec:6.4261\n",
      "[7780] loss:3.0807 || sec:6.3635\n",
      "[7790] loss:2.8291 || sec:6.1701\n",
      "[7800] loss:3.3542 || sec:6.2565\n",
      "[7810] loss:3.0743 || sec:6.4199\n",
      "[7820] loss:3.2970 || sec:6.1536\n",
      "[7830] loss:3.1290 || sec:6.2558\n",
      "[7840] loss:3.0667 || sec:6.2299\n",
      "[7850] loss:3.6613 || sec:6.2869\n",
      "[7860] loss:3.3016 || sec:6.3623\n",
      "[7870] loss:3.1572 || sec:6.7235\n",
      "[44] train_loss: 585.6643 || val_loss: 0.0000 || sec:115.7388\n",
      "Epoch 45/50\n",
      "[train]\n"
     ]
    },
    {
     "name": "stderr",
     "output_type": "stream",
     "text": [
      "/home/kist/nimod/pytorch deep learning/2_objectdetection/utils/data_augumentation.py:246: VisibleDeprecationWarning: Creating an ndarray from ragged nested sequences (which is a list-or-tuple of lists-or-tuples-or ndarrays with different lengths or shapes) is deprecated. If you meant to do this, you must specify 'dtype=object' when creating the ndarray.\n",
      "  mode = random.choice(self.sample_options)\n",
      "/home/kist/anaconda3/envs/pytorchDeepLearning/lib/python3.9/site-packages/torch/nn/functional.py:780: UserWarning: Note that order of the arguments: ceil_mode and return_indices will changeto match the args list in nn.MaxPool2d in a future release.\n",
      "  warnings.warn(\"Note that order of the arguments: ceil_mode and return_indices will change\"\n"
     ]
    },
    {
     "name": "stdout",
     "output_type": "stream",
     "text": [
      "[7880] loss:3.2924 || sec:2.6717\n",
      "[7890] loss:2.6956 || sec:6.3714\n",
      "[7900] loss:3.2802 || sec:6.0614\n",
      "[7910] loss:4.0116 || sec:6.0456\n",
      "[7920] loss:3.5893 || sec:6.2579\n",
      "[7930] loss:2.9507 || sec:6.2691\n",
      "[7940] loss:3.0846 || sec:6.4970\n",
      "[7950] loss:3.3983 || sec:6.2183\n",
      "[7960] loss:3.7346 || sec:6.4322\n",
      "[7970] loss:3.7645 || sec:6.2823\n",
      "[7980] loss:3.2023 || sec:6.8398\n",
      "[7990] loss:3.5261 || sec:6.8170\n",
      "[8000] loss:3.9405 || sec:7.0233\n",
      "[8010] loss:3.5854 || sec:6.2259\n",
      "[8020] loss:3.1660 || sec:6.1383\n",
      "[8030] loss:3.2318 || sec:6.8859\n",
      "[8040] loss:3.1849 || sec:6.4523\n",
      "[8050] loss:3.6148 || sec:6.2707\n",
      "[45] train_loss: 587.3763 || val_loss: 0.0000 || sec:117.3569\n",
      "Epoch 46/50\n",
      "[train]\n"
     ]
    },
    {
     "name": "stderr",
     "output_type": "stream",
     "text": [
      "/home/kist/nimod/pytorch deep learning/2_objectdetection/utils/data_augumentation.py:246: VisibleDeprecationWarning: Creating an ndarray from ragged nested sequences (which is a list-or-tuple of lists-or-tuples-or ndarrays with different lengths or shapes) is deprecated. If you meant to do this, you must specify 'dtype=object' when creating the ndarray.\n",
      "  mode = random.choice(self.sample_options)\n",
      "/home/kist/anaconda3/envs/pytorchDeepLearning/lib/python3.9/site-packages/torch/nn/functional.py:780: UserWarning: Note that order of the arguments: ceil_mode and return_indices will changeto match the args list in nn.MaxPool2d in a future release.\n",
      "  warnings.warn(\"Note that order of the arguments: ceil_mode and return_indices will change\"\n"
     ]
    },
    {
     "name": "stdout",
     "output_type": "stream",
     "text": [
      "[8060] loss:3.4500 || sec:3.0795\n",
      "[8070] loss:3.4520 || sec:6.2257\n",
      "[8080] loss:3.1245 || sec:6.2586\n",
      "[8090] loss:3.4014 || sec:6.4556\n",
      "[8100] loss:3.5027 || sec:6.3802\n",
      "[8110] loss:3.1985 || sec:6.3345\n",
      "[8120] loss:3.0642 || sec:6.1772\n",
      "[8130] loss:3.6428 || sec:6.6116\n",
      "[8140] loss:3.3641 || sec:6.2825\n",
      "[8150] loss:3.5261 || sec:6.3614\n",
      "[8160] loss:3.1985 || sec:6.3960\n",
      "[8170] loss:3.1750 || sec:6.4238\n",
      "[8180] loss:3.7013 || sec:6.2878\n",
      "[8190] loss:3.4163 || sec:6.4070\n",
      "[8200] loss:3.3549 || sec:6.7148\n",
      "[8210] loss:3.0403 || sec:6.4105\n",
      "[8220] loss:4.1819 || sec:6.4125\n",
      "[8230] loss:3.1825 || sec:6.5162\n",
      "[46] train_loss: 582.6657 || val_loss: 0.0000 || sec:116.9441\n",
      "Epoch 47/50\n",
      "[train]\n"
     ]
    },
    {
     "name": "stderr",
     "output_type": "stream",
     "text": [
      "/home/kist/nimod/pytorch deep learning/2_objectdetection/utils/data_augumentation.py:246: VisibleDeprecationWarning: Creating an ndarray from ragged nested sequences (which is a list-or-tuple of lists-or-tuples-or ndarrays with different lengths or shapes) is deprecated. If you meant to do this, you must specify 'dtype=object' when creating the ndarray.\n",
      "  mode = random.choice(self.sample_options)\n",
      "/home/kist/anaconda3/envs/pytorchDeepLearning/lib/python3.9/site-packages/torch/nn/functional.py:780: UserWarning: Note that order of the arguments: ceil_mode and return_indices will changeto match the args list in nn.MaxPool2d in a future release.\n",
      "  warnings.warn(\"Note that order of the arguments: ceil_mode and return_indices will change\"\n"
     ]
    },
    {
     "name": "stdout",
     "output_type": "stream",
     "text": [
      "[8240] loss:3.0378 || sec:3.7746\n",
      "[8250] loss:2.5350 || sec:6.7096\n",
      "[8260] loss:2.8726 || sec:6.2869\n",
      "[8270] loss:3.6538 || sec:5.9942\n",
      "[8280] loss:3.2397 || sec:6.1469\n",
      "[8290] loss:3.2380 || sec:6.0137\n",
      "[8300] loss:3.3590 || sec:6.3776\n",
      "[8310] loss:3.3629 || sec:6.3022\n",
      "[8320] loss:3.4447 || sec:6.7317\n",
      "[8330] loss:3.6899 || sec:6.2150\n",
      "[8340] loss:3.1666 || sec:6.4304\n",
      "[8350] loss:3.3242 || sec:6.5806\n",
      "[8360] loss:3.6917 || sec:6.4056\n",
      "[8370] loss:3.4087 || sec:6.5321\n",
      "[8380] loss:3.1348 || sec:6.3004\n",
      "[8390] loss:3.3452 || sec:6.3698\n",
      "[8400] loss:3.7043 || sec:6.6663\n",
      "[8410] loss:3.7871 || sec:6.3748\n",
      "[47] train_loss: 580.9563 || val_loss: 0.0000 || sec:116.6236\n",
      "Epoch 48/50\n",
      "[train]\n"
     ]
    },
    {
     "name": "stderr",
     "output_type": "stream",
     "text": [
      "/home/kist/nimod/pytorch deep learning/2_objectdetection/utils/data_augumentation.py:246: VisibleDeprecationWarning: Creating an ndarray from ragged nested sequences (which is a list-or-tuple of lists-or-tuples-or ndarrays with different lengths or shapes) is deprecated. If you meant to do this, you must specify 'dtype=object' when creating the ndarray.\n",
      "  mode = random.choice(self.sample_options)\n",
      "/home/kist/anaconda3/envs/pytorchDeepLearning/lib/python3.9/site-packages/torch/nn/functional.py:780: UserWarning: Note that order of the arguments: ceil_mode and return_indices will changeto match the args list in nn.MaxPool2d in a future release.\n",
      "  warnings.warn(\"Note that order of the arguments: ceil_mode and return_indices will change\"\n"
     ]
    },
    {
     "name": "stdout",
     "output_type": "stream",
     "text": [
      "[8420] loss:3.1184 || sec:4.3480\n",
      "[8430] loss:3.3596 || sec:6.8558\n",
      "[8440] loss:3.7901 || sec:6.8188\n",
      "[8450] loss:3.3477 || sec:6.6570\n",
      "[8460] loss:2.8810 || sec:6.4954\n",
      "[8470] loss:2.8581 || sec:6.2980\n",
      "[8480] loss:2.4702 || sec:6.2880\n",
      "[8490] loss:3.0669 || sec:6.8324\n",
      "[8500] loss:3.4917 || sec:6.1161\n",
      "[8510] loss:3.1406 || sec:6.2701\n",
      "[8520] loss:3.2326 || sec:6.3941\n",
      "[8530] loss:3.7226 || sec:6.7998\n",
      "[8540] loss:3.2780 || sec:6.4126\n",
      "[8550] loss:3.7623 || sec:6.7654\n",
      "[8560] loss:3.2214 || sec:6.3364\n",
      "[8570] loss:3.0141 || sec:6.3411\n",
      "[8580] loss:2.6675 || sec:6.4256\n",
      "[8590] loss:3.5262 || sec:7.0859\n",
      "[48] train_loss: 574.8928 || val_loss: 0.0000 || sec:119.4175\n",
      "Epoch 49/50\n",
      "[train]\n"
     ]
    },
    {
     "name": "stderr",
     "output_type": "stream",
     "text": [
      "/home/kist/nimod/pytorch deep learning/2_objectdetection/utils/data_augumentation.py:246: VisibleDeprecationWarning: Creating an ndarray from ragged nested sequences (which is a list-or-tuple of lists-or-tuples-or ndarrays with different lengths or shapes) is deprecated. If you meant to do this, you must specify 'dtype=object' when creating the ndarray.\n",
      "  mode = random.choice(self.sample_options)\n",
      "/home/kist/anaconda3/envs/pytorchDeepLearning/lib/python3.9/site-packages/torch/nn/functional.py:780: UserWarning: Note that order of the arguments: ceil_mode and return_indices will changeto match the args list in nn.MaxPool2d in a future release.\n",
      "  warnings.warn(\"Note that order of the arguments: ceil_mode and return_indices will change\"\n"
     ]
    },
    {
     "name": "stdout",
     "output_type": "stream",
     "text": [
      "[8600] loss:2.6977 || sec:5.0665\n",
      "[8610] loss:3.2254 || sec:6.3970\n",
      "[8620] loss:3.3420 || sec:6.7473\n",
      "[8630] loss:3.1455 || sec:6.9091\n",
      "[8640] loss:3.4714 || sec:6.6999\n",
      "[8650] loss:3.0239 || sec:6.4818\n",
      "[8660] loss:3.5376 || sec:6.7271\n",
      "[8670] loss:3.4251 || sec:6.7428\n",
      "[8680] loss:3.1605 || sec:6.2282\n",
      "[8690] loss:3.2749 || sec:6.2326\n",
      "[8700] loss:3.2758 || sec:6.3735\n",
      "[8710] loss:3.2396 || sec:6.0962\n",
      "[8720] loss:3.3945 || sec:6.4632\n",
      "[8730] loss:3.5868 || sec:6.5860\n",
      "[8740] loss:3.3422 || sec:6.5108\n",
      "[8750] loss:3.0847 || sec:6.5707\n",
      "[8760] loss:2.8948 || sec:6.2152\n",
      "[8770] loss:3.9247 || sec:6.4159\n",
      "[49] train_loss: 573.6177 || val_loss: 0.0000 || sec:118.7792\n",
      "Epoch 50/50\n",
      "[train]\n"
     ]
    },
    {
     "name": "stderr",
     "output_type": "stream",
     "text": [
      "/home/kist/nimod/pytorch deep learning/2_objectdetection/utils/data_augumentation.py:246: VisibleDeprecationWarning: Creating an ndarray from ragged nested sequences (which is a list-or-tuple of lists-or-tuples-or ndarrays with different lengths or shapes) is deprecated. If you meant to do this, you must specify 'dtype=object' when creating the ndarray.\n",
      "  mode = random.choice(self.sample_options)\n",
      "/home/kist/anaconda3/envs/pytorchDeepLearning/lib/python3.9/site-packages/torch/nn/functional.py:780: UserWarning: Note that order of the arguments: ceil_mode and return_indices will changeto match the args list in nn.MaxPool2d in a future release.\n",
      "  warnings.warn(\"Note that order of the arguments: ceil_mode and return_indices will change\"\n"
     ]
    },
    {
     "name": "stdout",
     "output_type": "stream",
     "text": [
      "[8780] loss:2.9761 || sec:5.7053\n",
      "[8790] loss:3.1212 || sec:7.0228\n",
      "[8800] loss:3.3139 || sec:6.5746\n",
      "[8810] loss:3.5001 || sec:6.2853\n",
      "[8820] loss:3.8449 || sec:6.3109\n",
      "[8830] loss:2.7310 || sec:6.6707\n",
      "[8840] loss:3.3010 || sec:6.8082\n",
      "[8850] loss:3.3544 || sec:6.1615\n",
      "[8860] loss:3.1523 || sec:6.2481\n",
      "[8870] loss:3.3024 || sec:6.3466\n",
      "[8880] loss:3.5311 || sec:6.0544\n",
      "[8890] loss:2.8564 || sec:6.5258\n",
      "[8900] loss:3.2463 || sec:6.2063\n",
      "[8910] loss:3.1248 || sec:5.7846\n",
      "[8920] loss:3.4167 || sec:5.8332\n",
      "[8930] loss:3.5258 || sec:6.0985\n",
      "[8940] loss:3.2958 || sec:6.1056\n",
      "[8950] loss:3.3340 || sec:6.0474\n",
      "[val]\n",
      "[50] train_loss: 564.4648 || val_loss: 685.2678 || sec:160.8067\n",
      "Epoch 51/50\n",
      "[train]\n"
     ]
    },
    {
     "name": "stderr",
     "output_type": "stream",
     "text": [
      "/home/kist/nimod/pytorch deep learning/2_objectdetection/utils/data_augumentation.py:246: VisibleDeprecationWarning: Creating an ndarray from ragged nested sequences (which is a list-or-tuple of lists-or-tuples-or ndarrays with different lengths or shapes) is deprecated. If you meant to do this, you must specify 'dtype=object' when creating the ndarray.\n",
      "  mode = random.choice(self.sample_options)\n",
      "/home/kist/anaconda3/envs/pytorchDeepLearning/lib/python3.9/site-packages/torch/nn/functional.py:780: UserWarning: Note that order of the arguments: ceil_mode and return_indices will changeto match the args list in nn.MaxPool2d in a future release.\n",
      "  warnings.warn(\"Note that order of the arguments: ceil_mode and return_indices will change\"\n"
     ]
    },
    {
     "name": "stdout",
     "output_type": "stream",
     "text": [
      "[8960] loss:3.5695 || sec:5.9667\n",
      "[8970] loss:3.2066 || sec:6.0838\n",
      "[8980] loss:3.1546 || sec:6.0564\n",
      "[8990] loss:2.1308 || sec:5.9291\n",
      "[9000] loss:2.9469 || sec:5.9326\n",
      "[9010] loss:3.2259 || sec:6.1366\n",
      "[9020] loss:3.1442 || sec:6.2452\n",
      "[9030] loss:2.6596 || sec:5.8490\n",
      "[9040] loss:3.1345 || sec:6.0114\n",
      "[9050] loss:3.1260 || sec:5.9705\n",
      "[9060] loss:3.6270 || sec:6.1350\n",
      "[9070] loss:2.8873 || sec:5.9470\n",
      "[9080] loss:3.1046 || sec:6.1446\n",
      "[9090] loss:3.3790 || sec:6.1641\n",
      "[9100] loss:2.9047 || sec:5.8698\n",
      "[9110] loss:3.3050 || sec:6.2267\n",
      "[9120] loss:3.6422 || sec:6.0542\n",
      "[51] train_loss: 564.7939 || val_loss: 0.0000 || sec:110.4696\n"
     ]
    }
   ],
   "source": [
    "num_epochs=50\n",
    "train_model(net,dataloaders_dict,criterion,optimizer,num_epochs)"
   ]
  },
  {
   "cell_type": "code",
   "execution_count": null,
   "metadata": {},
   "outputs": [],
   "source": []
  }
 ],
 "metadata": {
  "interpreter": {
   "hash": "415c659548b03e5a7ab126dcfbb4fc7162127f64c5d6abf067896d088a8939b1"
  },
  "kernelspec": {
   "display_name": "Python 3.9.12 ('pytorchDeepLearning')",
   "language": "python",
   "name": "python3"
  },
  "language_info": {
   "codemirror_mode": {
    "name": "ipython",
    "version": 3
   },
   "file_extension": ".py",
   "mimetype": "text/x-python",
   "name": "python",
   "nbconvert_exporter": "python",
   "pygments_lexer": "ipython3",
   "version": "3.9.12"
  },
  "orig_nbformat": 4
 },
 "nbformat": 4,
 "nbformat_minor": 2
}
